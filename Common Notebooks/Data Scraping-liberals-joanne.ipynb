{
 "cells": [
  {
   "cell_type": "code",
   "execution_count": 18,
   "metadata": {
    "collapsed": false
   },
   "outputs": [
   ],
   "source": [
    "import datetime as dt \n",
    "#from psaw import PushshiftAPI\n",
    "from pmaw import PushshiftAPI\n",
    "#import praw\n",
    "import pandas as pd\n",
    "import matplotlib.pyplot as plt"
   ]
  },
  {
   "cell_type": "code",
   "execution_count": 47,
   "metadata": {
    "collapsed": false
   },
   "outputs": [
   ],
   "source": [
    "\n",
    "before = int(dt.datetime(2022,6,12,0,0).timestamp())\n",
    "after = int(dt.datetime(2021,1,1,0,0).timestamp())\n",
    "api = PushshiftAPI()\n",
    "subreddit=\"liberal\"\n",
    "limit=1000000\n",
    "posts = api.search_comments(subreddit=subreddit, limit=limit, before=before, after=after)\n",
    "posts_df = pd.DataFrame(posts)\n",
    "#posts_df=posts_df['title']"
   ]
  },
  {
   "cell_type": "code",
   "execution_count": 5,
   "metadata": {
    "collapsed": false
   },
   "outputs": [
    {
     "data": {
      "text/plain": [
       "Index(['all_awardings', 'archived', 'associated_award', 'author',\n",
       "       'author_flair_background_color', 'author_flair_css_class',\n",
       "       'author_flair_richtext', 'author_flair_template_id',\n",
       "       'author_flair_text', 'author_flair_text_color', 'author_flair_type',\n",
       "       'author_fullname', 'author_patreon_flair', 'author_premium', 'body',\n",
       "       'body_sha1', 'can_gild', 'collapsed', 'collapsed_because_crowd_control',\n",
       "       'collapsed_reason', 'collapsed_reason_code', 'comment_type',\n",
       "       'controversiality', 'created_utc', 'distinguished', 'gilded',\n",
       "       'gildings', 'id', 'is_submitter', 'link_id', 'locked', 'no_follow',\n",
       "       'parent_id', 'permalink', 'retrieved_utc', 'score', 'score_hidden',\n",
       "       'send_replies', 'stickied', 'subreddit', 'subreddit_id',\n",
       "       'subreddit_name_prefixed', 'subreddit_type', 'top_awarded_type',\n",
       "       'total_awards_received', 'treatment_tags', 'unrepliable_reason'],\n",
       "      dtype='object')"
      ]
     },
     "execution_count": 5,
     "metadata": {
     },
     "output_type": "execute_result"
    }
   ],
   "source": [
    "posts_df.columns"
   ]
  },
  {
   "cell_type": "code",
   "execution_count": 42,
   "metadata": {
    "collapsed": false
   },
   "outputs": [
    {
     "data": {
      "text/plain": [
       " 1     11866\n",
       " 2       159\n",
       " 3        85\n",
       " 0        58\n",
       " 4        47\n",
       "       ...  \n",
       " 83        1\n",
       "-8         1\n",
       " 45        1\n",
       " 46        1\n",
       " 38        1\n",
       "Name: score, Length: 78, dtype: int64"
      ]
     },
     "execution_count": 42,
     "metadata": {
     },
     "output_type": "execute_result"
    }
   ],
   "source": [
    "posts_df['score'].value_counts()"
   ]
  },
  {
   "cell_type": "code",
   "execution_count": 63,
   "metadata": {
    "collapsed": false
   },
   "outputs": [
    {
     "data": {
      "image/png": "[encoded data removed]",
      "text/plain": [
       "<Figure size 432x288 with 1 Axes>"
      ]
     },
     "execution_count": 63,
     "metadata": {
      "needs_background": "light"
     },
     "output_type": "execute_result"
    }
   ],
   "source": [
    "plt.hist(posts_df['score'],bins =100)\n",
    "plt.show() "
   ]
  },
  {
   "cell_type": "code",
   "execution_count": 37,
   "metadata": {
    "collapsed": false,
    "scrolled": true
   },
   "outputs": [
    {
     "name": "stdout",
     "output_type": "stream",
     "text": [
      "25\n",
      "2\n",
      "30\n",
      "2\n",
      "6\n",
      "12\n",
      "6\n",
      "2\n",
      "2\n",
      "21\n",
      "2\n",
      "2\n",
      "5\n",
      "7\n",
      "11\n",
      "36\n",
      "45\n",
      "46\n",
      "26\n",
      "56\n",
      "5\n",
      "8\n",
      "3\n",
      "6\n",
      "8\n",
      "2\n",
      "8\n",
      "2\n",
      "2\n",
      "5\n",
      "7\n",
      "34\n",
      "21\n",
      "10\n",
      "18\n",
      "2\n",
      "11\n",
      "29\n",
      "16\n",
      "2\n",
      "3\n",
      "2\n",
      "3\n",
      "2\n",
      "2\n",
      "11\n",
      "2\n",
      "2\n",
      "2\n",
      "4\n",
      "2\n",
      "2\n",
      "2\n",
      "4\n",
      "26\n",
      "2\n",
      "4\n",
      "2\n",
      "5\n",
      "25\n",
      "3\n",
      "3\n",
      "7\n",
      "6\n",
      "3\n",
      "16\n",
      "21\n",
      "10\n",
      "8\n",
      "17\n",
      "9\n",
      "4\n",
      "3\n",
      "6\n",
      "22\n",
      "44\n",
      "5\n",
      "2\n",
      "2\n",
      "14\n",
      "9\n",
      "10\n",
      "24\n",
      "9\n",
      "14\n",
      "34\n",
      "25\n",
      "4\n",
      "3\n",
      "2\n",
      "2\n",
      "2\n",
      "2\n",
      "36\n",
      "50\n",
      "4\n",
      "2\n",
      "6\n",
      "13\n",
      "3\n",
      "7\n",
      "12\n",
      "5\n",
      "3\n",
      "4\n",
      "6\n",
      "7\n",
      "25\n",
      "6\n",
      "2\n",
      "3\n",
      "18\n",
      "5\n",
      "8\n",
      "2\n",
      "7\n",
      "19\n",
      "12\n",
      "3\n",
      "16\n",
      "8\n",
      "14\n",
      "2\n",
      "7\n",
      "3\n",
      "3\n",
      "2\n",
      "2\n",
      "5\n",
      "19\n",
      "5\n",
      "3\n",
      "27\n",
      "58\n",
      "5\n",
      "2\n",
      "3\n",
      "2\n",
      "4\n",
      "4\n",
      "2\n",
      "2\n",
      "16\n",
      "29\n",
      "2\n",
      "2\n",
      "2\n",
      "2\n",
      "4\n",
      "7\n",
      "3\n",
      "4\n",
      "3\n",
      "2\n",
      "5\n",
      "3\n",
      "6\n",
      "5\n",
      "2\n",
      "3\n",
      "6\n",
      "5\n",
      "3\n",
      "57\n",
      "3\n",
      "16\n",
      "3\n",
      "5\n",
      "18\n",
      "20\n",
      "12\n",
      "68\n",
      "3\n",
      "3\n",
      "2\n",
      "2\n",
      "3\n",
      "7\n",
      "6\n",
      "15\n",
      "5\n",
      "2\n",
      "3\n",
      "4\n",
      "2\n",
      "3\n",
      "7\n",
      "6\n",
      "28\n",
      "13\n",
      "37\n",
      "6\n",
      "2\n",
      "49\n",
      "2\n",
      "2\n",
      "8\n",
      "10\n",
      "10\n",
      "13\n",
      "2\n",
      "3\n",
      "3\n",
      "4\n",
      "2\n",
      "4\n",
      "2\n",
      "2\n",
      "2\n",
      "3\n",
      "3\n",
      "6\n",
      "2\n",
      "2\n",
      "6\n",
      "4\n",
      "6\n",
      "2\n",
      "2\n",
      "2\n",
      "3\n",
      "6\n",
      "2\n",
      "18\n",
      "4\n",
      "17\n",
      "2\n",
      "2\n",
      "2\n",
      "3\n",
      "8\n",
      "33\n",
      "10\n",
      "6\n",
      "17\n",
      "8\n",
      "4\n",
      "23\n",
      "9\n",
      "4\n",
      "33\n",
      "2\n",
      "11\n",
      "5\n",
      "49\n",
      "36\n",
      "5\n",
      "101\n",
      "19\n",
      "16\n",
      "62\n",
      "14\n",
      "157\n",
      "2\n",
      "3\n",
      "9\n",
      "8\n",
      "7\n",
      "6\n",
      "10\n",
      "18\n",
      "20\n",
      "7\n",
      "6\n",
      "10\n",
      "7\n",
      "55\n",
      "16\n",
      "26\n",
      "3\n",
      "9\n",
      "11\n",
      "37\n",
      "2\n",
      "32\n",
      "52\n",
      "12\n",
      "3\n",
      "2\n",
      "50\n",
      "9\n",
      "2\n",
      "3\n",
      "7\n",
      "2\n",
      "7\n",
      "2\n",
      "4\n",
      "11\n",
      "14\n",
      "10\n",
      "2\n",
      "2\n",
      "2\n",
      "2\n",
      "2\n",
      "3\n",
      "5\n",
      "5\n",
      "2\n",
      "2\n",
      "4\n",
      "3\n",
      "3\n",
      "9\n",
      "15\n",
      "4\n",
      "8\n",
      "3\n",
      "2\n",
      "54\n",
      "3\n",
      "8\n",
      "2\n",
      "3\n",
      "2\n",
      "4\n",
      "3\n",
      "3\n",
      "4\n",
      "4\n",
      "5\n",
      "3\n",
      "4\n",
      "5\n",
      "6\n",
      "7\n",
      "12\n",
      "3\n",
      "2\n",
      "4\n",
      "16\n",
      "12\n",
      "12\n",
      "7\n",
      "12\n",
      "6\n",
      "21\n",
      "9\n",
      "12\n",
      "21\n",
      "15\n",
      "18\n",
      "4\n",
      "12\n",
      "29\n",
      "13\n",
      "69\n",
      "24\n",
      "2\n",
      "2\n",
      "2\n",
      "5\n",
      "5\n",
      "9\n",
      "3\n",
      "64\n",
      "9\n",
      "4\n",
      "2\n",
      "3\n",
      "10\n",
      "2\n",
      "2\n",
      "2\n",
      "3\n",
      "5\n",
      "3\n",
      "5\n",
      "5\n",
      "10\n",
      "4\n",
      "35\n",
      "2\n",
      "5\n",
      "3\n",
      "2\n",
      "4\n",
      "2\n",
      "10\n",
      "25\n",
      "5\n",
      "3\n",
      "3\n",
      "3\n",
      "7\n",
      "20\n",
      "19\n",
      "10\n",
      "24\n",
      "7\n",
      "48\n",
      "2\n",
      "4\n",
      "3\n",
      "5\n",
      "2\n",
      "5\n",
      "5\n",
      "4\n",
      "5\n",
      "6\n",
      "15\n",
      "4\n",
      "3\n",
      "5\n",
      "2\n",
      "3\n",
      "2\n",
      "9\n",
      "14\n",
      "6\n",
      "6\n",
      "2\n",
      "3\n",
      "2\n",
      "29\n",
      "3\n",
      "77\n",
      "4\n",
      "15\n",
      "3\n",
      "14\n",
      "2\n",
      "34\n",
      "20\n",
      "24\n",
      "38\n",
      "4\n",
      "2\n",
      "2\n",
      "3\n",
      "8\n",
      "2\n",
      "2\n",
      "2\n",
      "5\n",
      "5\n",
      "3\n",
      "2\n",
      "3\n",
      "2\n",
      "2\n",
      "4\n",
      "2\n",
      "4\n",
      "27\n",
      "2\n",
      "4\n",
      "2\n",
      "2\n",
      "2\n",
      "5\n",
      "20\n",
      "2\n",
      "2\n",
      "6\n",
      "8\n",
      "8\n",
      "6\n",
      "4\n",
      "15\n",
      "14\n",
      "8\n",
      "6\n",
      "11\n",
      "9\n",
      "11\n",
      "11\n",
      "23\n",
      "83\n",
      "12\n",
      "2\n",
      "27\n",
      "95\n",
      "2\n",
      "3\n",
      "5\n",
      "2\n",
      "2\n",
      "2\n",
      "7\n",
      "2\n",
      "2\n",
      "5\n",
      "2\n",
      "4\n",
      "2\n",
      "2\n",
      "2\n"
     ]
    }
   ],
   "source": [
    "for i in range(len(posts_df)):\n",
    "    if posts_df['score'][i] > 1:\n",
    "        print(posts_df['score'][i])"
   ]
  },
  {
   "cell_type": "code",
   "execution_count": 48,
   "metadata": {
    "collapsed": false
   },
   "outputs": [
   ],
   "source": [
    "new_posts_df=posts_df[posts_df['score']>0]"
   ]
  },
  {
   "cell_type": "code",
   "execution_count": 60,
   "metadata": {
    "collapsed": false
   },
   "outputs": [
    {
     "data": {
      "text/plain": [
       "101    From the article: \"Women graduating with a bac...\n",
       "116                                            [deleted]\n",
       "118    Lol, the conservatives just can't proofread fo...\n",
       "121    Trying to overthrow the US constitution isn't ...\n",
       "124    Just arrest them all... there it is a criminal...\n",
       "Name: body, dtype: object"
      ]
     },
     "execution_count": 60,
     "metadata": {
     },
     "output_type": "execute_result"
    }
   ],
   "source": [
    "new_post['body'].head()"
   ]
  },
  {
   "cell_type": "code",
   "execution_count": 61,
   "metadata": {
    "collapsed": false
   },
   "outputs": [
    {
     "data": {
      "text/plain": [
       "\"Lol, the conservatives just can't proofread for shit.\""
      ]
     },
     "execution_count": 61,
     "metadata": {
     },
     "output_type": "execute_result"
    }
   ],
   "source": [
    "new_post['body'][118]"
   ]
  },
  {
   "cell_type": "code",
   "execution_count": 49,
   "metadata": {
    "collapsed": false
   },
   "outputs": [
   ],
   "source": [
    "comments_df = new_posts_df[['body','score']]"
   ]
  },
  {
   "cell_type": "code",
   "execution_count": 46,
   "metadata": {
    "collapsed": false
   },
   "outputs": [
    {
     "data": {
      "text/plain": [
       "'/projects/820ea3ac-497c-43fd-9cb7-abe34292faa8/SC22-BatchA-Blurred-Futures'"
      ]
     },
     "execution_count": 46,
     "metadata": {
     },
     "output_type": "execute_result"
    }
   ],
   "source": [
    "pwd"
   ]
  },
  {
   "cell_type": "code",
   "execution_count": 39,
   "metadata": {
    "collapsed": false
   },
   "outputs": [
   ],
   "source": [
    "path='/projects/820ea3ac-497c-43fd-9cb7-abe34292faa8/SC22-BatchA-Blurred-Futures/Data/'"
   ]
  },
  {
   "cell_type": "code",
   "execution_count": 30,
   "metadata": {
    "collapsed": false
   },
   "outputs": [
   ],
   "source": [
    "posts_df['body'].to_csv(path+'joanne_test.csv')"
   ]
  },
  {
   "cell_type": "code",
   "execution_count": 45,
   "metadata": {
    "collapsed": false
   },
   "outputs": [
   ],
   "source": [
    "comments_df.to_csv(path+'joanne_test.csv')\n",
    "#6 months, > 0"
   ]
  },
  {
   "cell_type": "code",
   "execution_count": 22,
   "metadata": {
    "collapsed": false
   },
   "outputs": [
   ],
   "source": [
    "posts_df.to_csv('test.csv')"
   ]
  }
 ],
 "metadata": {
  "kernelspec": {
   "display_name": "Python (nlp_env)",
   "language": "python",
   "metadata": {
    "debugger": true
   },
   "name": "nlp_env",
   "resource_dir": "/projects/820ea3ac-497c-43fd-9cb7-abe34292faa8/.local/share/jupyter/kernels/nlp_env"
  },
  "language_info": {
   "codemirror_mode": {
    "name": "ipython",
    "version": 3
   },
   "file_extension": ".py",
   "mimetype": "text/x-python",
   "name": "python",
   "nbconvert_exporter": "python",
   "pygments_lexer": "ipython3",
   "version": "3.9.12"
  }
 },
 "nbformat": 4,
 "nbformat_minor": 4
}