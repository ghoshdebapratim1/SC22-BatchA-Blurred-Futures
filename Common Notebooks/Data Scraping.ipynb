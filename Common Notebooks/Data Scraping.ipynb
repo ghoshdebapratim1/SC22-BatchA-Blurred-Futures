{
 "cells": [
  {
   "cell_type": "code",
   "execution_count": 2,
   "metadata": {
    "collapsed": false
   },
   "outputs": [
   ],
   "source": [
    "import datetime as dt \n",
    "#from psaw import PushshiftAPI\n",
    "from pmaw import PushshiftAPI\n",
    "#import praw\n",
    "import pandas as pd"
   ]
  },
  {
   "cell_type": "code",
   "execution_count": 18,
   "metadata": {
    "collapsed": false
   },
   "outputs": [
   ],
   "source": [
    "\n",
    "before = int(dt.datetime(2022,6,10,0,0).timestamp())\n",
    "after = int(dt.datetime(2022,6,9,0,0).timestamp())\n",
    "api = PushshiftAPI()\n",
    "subreddit=\"liberal\"\n",
    "limit=10\n",
    "posts = api.search_comments(subreddit=subreddit, limit=limit, before=before, after=after)\n",
    "posts_df = pd.DataFrame(posts)\n",
    "#posts_df=posts_df['title']\n",
    " "
   ]
  },
  {
   "cell_type": "code",
   "execution_count": 11,
   "metadata": {
    "collapsed": false
   },
   "outputs": [
    {
     "data": {
      "text/plain": [
       "Index(['all_awardings', 'archived', 'associated_award', 'author',\n",
       "       'author_flair_background_color', 'author_flair_css_class',\n",
       "       'author_flair_richtext', 'author_flair_template_id',\n",
       "       'author_flair_text', 'author_flair_text_color', 'author_flair_type',\n",
       "       'author_fullname', 'author_patreon_flair', 'author_premium', 'body',\n",
       "       'body_sha1', 'can_gild', 'collapsed', 'collapsed_because_crowd_control',\n",
       "       'collapsed_reason', 'collapsed_reason_code', 'comment_type',\n",
       "       'controversiality', 'created_utc', 'distinguished', 'gilded',\n",
       "       'gildings', 'id', 'is_submitter', 'link_id', 'locked', 'no_follow',\n",
       "       'parent_id', 'permalink', 'retrieved_utc', 'score', 'score_hidden',\n",
       "       'send_replies', 'stickied', 'subreddit', 'subreddit_id',\n",
       "       'subreddit_name_prefixed', 'subreddit_type', 'top_awarded_type',\n",
       "       'total_awards_received', 'treatment_tags', 'unrepliable_reason'],\n",
       "      dtype='object')"
      ]
     },
     "execution_count": 11,
     "metadata": {
     },
     "output_type": "execute_result"
    }
   ],
   "source": [
    "posts_df.columns"
   ]
  },
  {
   "cell_type": "code",
   "execution_count": 23,
   "metadata": {
    "collapsed": false
   },
   "outputs": [
    {
     "data": {
      "text/plain": [
       "'Serious question back at you —&gt; Safe? As in the food is tainted or as in you’ll get beat up if you speak up? I don’t understand why you’d be unsafe - I guarantee that those workers, cooks, and staff aren’t working there because they admire and worship at the feet of their cult CEO leader’s GOP footsteps.'"
      ]
     },
     "execution_count": 23,
     "metadata": {
     },
     "output_type": "execute_result"
    }
   ],
   "source": [
    "posts_df['body'][4]"
   ]
  },
  {
   "cell_type": "code",
   "execution_count": 17,
   "metadata": {
    "collapsed": false
   },
   "outputs": [
    {
     "data": {
      "text/plain": [
       "0    0\n",
       "1    0\n",
       "2    0\n",
       "3    0\n",
       "4    0\n",
       "5    0\n",
       "6    0\n",
       "7    0\n",
       "8    0\n",
       "9    0\n",
       "Name: controversiality, dtype: int64"
      ]
     },
     "execution_count": 17,
     "metadata": {
     },
     "output_type": "execute_result"
    }
   ],
   "source": [
    "posts_df['controversiality']"
   ]
  },
  {
   "cell_type": "code",
   "execution_count": 26,
   "metadata": {
    "collapsed": false
   },
   "outputs": [
   ],
   "source": [
    "posts_df.to_csv('test.csv')"
   ]
  }
 ],
 "metadata": {
  "kernelspec": {
   "display_name": "Python (nlp_env)",
   "language": "python",
   "metadata": {
    "debugger": true
   },
   "name": "nlp_env",
   "resource_dir": "/projects/d33fe5ca-9047-433d-bb1f-d4d7dfb115ca/.local/share/jupyter/kernels/nlp_env"
  },
  "language_info": {
   "codemirror_mode": {
    "name": "ipython",
    "version": 3
   },
   "file_extension": ".py",
   "mimetype": "text/x-python",
   "name": "python",
   "nbconvert_exporter": "python",
   "pygments_lexer": "ipython3",
   "version": "3.8.13"
  }
 },
 "nbformat": 4,
 "nbformat_minor": 4
}