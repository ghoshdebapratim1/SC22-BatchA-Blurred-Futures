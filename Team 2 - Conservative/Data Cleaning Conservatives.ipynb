{
 "cells": [
  {
   "cell_type": "code",
   "execution_count": 143,
   "metadata": {
    "collapsed": false
   },
   "outputs": [
   ],
   "source": [
    "import pandas as pd\n",
    "import re\n",
    "from bs4 import BeautifulSoup\n",
    "import unicodedata"
   ]
  },
  {
   "cell_type": "code",
   "execution_count": 0,
   "metadata": {
    "collapsed": false
   },
   "outputs": [
   ],
   "source": [
   ]
  },
  {
   "cell_type": "code",
   "execution_count": 144,
   "metadata": {
    "collapsed": false
   },
   "outputs": [
    {
     "data": {
      "text/html": [
       "<div>\n",
       "<style scoped>\n",
       "    .dataframe tbody tr th:only-of-type {\n",
       "        vertical-align: middle;\n",
       "    }\n",
       "\n",
       "    .dataframe tbody tr th {\n",
       "        vertical-align: top;\n",
       "    }\n",
       "\n",
       "    .dataframe thead th {\n",
       "        text-align: right;\n",
       "    }\n",
       "</style>\n",
       "<table border=\"1\" class=\"dataframe\">\n",
       "  <thead>\n",
       "    <tr style=\"text-align: right;\">\n",
       "      <th></th>\n",
       "      <th>body</th>\n",
       "      <th>score</th>\n",
       "    </tr>\n",
       "  </thead>\n",
       "  <tbody>\n",
       "    <tr>\n",
       "      <th>0</th>\n",
       "      <td>Serious question. Why do Republicans always ta...</td>\n",
       "      <td>0</td>\n",
       "    </tr>\n",
       "    <tr>\n",
       "      <th>1</th>\n",
       "      <td>You think Lebron James wants complete abolishm...</td>\n",
       "      <td>0</td>\n",
       "    </tr>\n",
       "    <tr>\n",
       "      <th>2</th>\n",
       "      <td>I thought it was the welfare and govt help\\n t...</td>\n",
       "      <td>0</td>\n",
       "    </tr>\n",
       "    <tr>\n",
       "      <th>3</th>\n",
       "      <td>Ngl it is a good luck. Did you ever find that ...</td>\n",
       "      <td>1</td>\n",
       "    </tr>\n",
       "    <tr>\n",
       "      <th>4</th>\n",
       "      <td>Why? He’s right</td>\n",
       "      <td>0</td>\n",
       "    </tr>\n",
       "    <tr>\n",
       "      <th>...</th>\n",
       "      <td>...</td>\n",
       "      <td>...</td>\n",
       "    </tr>\n",
       "    <tr>\n",
       "      <th>24211</th>\n",
       "      <td>Gunman kills 19 children in Texas school rampa...</td>\n",
       "      <td>1</td>\n",
       "    </tr>\n",
       "    <tr>\n",
       "      <th>24212</th>\n",
       "      <td>Gunman kills 19 children in Texas school rampa...</td>\n",
       "      <td>1</td>\n",
       "    </tr>\n",
       "    <tr>\n",
       "      <th>24213</th>\n",
       "      <td>\\n\"Please note that this is a **Republican** s...</td>\n",
       "      <td>1</td>\n",
       "    </tr>\n",
       "    <tr>\n",
       "      <th>24214</th>\n",
       "      <td>\\n\"Please note that this is a **Republican** s...</td>\n",
       "      <td>1</td>\n",
       "    </tr>\n",
       "    <tr>\n",
       "      <th>24215</th>\n",
       "      <td>\\n\"Please note that this is a **Republican** s...</td>\n",
       "      <td>1</td>\n",
       "    </tr>\n",
       "  </tbody>\n",
       "</table>\n",
       "<p>24216 rows × 2 columns</p>\n",
       "</div>"
      ],
      "text/plain": [
       "                                                    body  score\n",
       "0      Serious question. Why do Republicans always ta...      0\n",
       "1      You think Lebron James wants complete abolishm...      0\n",
       "2      I thought it was the welfare and govt help\\n t...      0\n",
       "3      Ngl it is a good luck. Did you ever find that ...      1\n",
       "4                                        Why? He’s right      0\n",
       "...                                                  ...    ...\n",
       "24211  Gunman kills 19 children in Texas school rampa...      1\n",
       "24212  Gunman kills 19 children in Texas school rampa...      1\n",
       "24213  \\n\"Please note that this is a **Republican** s...      1\n",
       "24214  \\n\"Please note that this is a **Republican** s...      1\n",
       "24215  \\n\"Please note that this is a **Republican** s...      1\n",
       "\n",
       "[24216 rows x 2 columns]"
      ]
     },
     "execution_count": 144,
     "metadata": {
     },
     "output_type": "execute_result"
    }
   ],
   "source": [
    "\n",
    "#importing scraping dataset\n",
    "repub_data_1 = pd.read_csv ('/projects/820ea3ac-497c-43fd-9cb7-abe34292faa8/SC22-BatchA-Blurred-Futures/Data/nishant-republicans-1year.csv')\n",
    "repub_data_1 = repub_data_1[['body', 'score']] \n",
    "repub_data_1"
   ]
  },
  {
   "cell_type": "code",
   "execution_count": 145,
   "metadata": {
    "collapsed": false
   },
   "outputs": [
    {
     "data": {
      "text/html": [
       "<div>\n",
       "<style scoped>\n",
       "    .dataframe tbody tr th:only-of-type {\n",
       "        vertical-align: middle;\n",
       "    }\n",
       "\n",
       "    .dataframe tbody tr th {\n",
       "        vertical-align: top;\n",
       "    }\n",
       "\n",
       "    .dataframe thead th {\n",
       "        text-align: right;\n",
       "    }\n",
       "</style>\n",
       "<table border=\"1\" class=\"dataframe\">\n",
       "  <thead>\n",
       "    <tr style=\"text-align: right;\">\n",
       "      <th></th>\n",
       "      <th>body</th>\n",
       "      <th>score</th>\n",
       "    </tr>\n",
       "  </thead>\n",
       "  <tbody>\n",
       "    <tr>\n",
       "      <th>8334</th>\n",
       "      <td>You fired our troops, Don’t ever act like you ...</td>\n",
       "      <td>13</td>\n",
       "    </tr>\n",
       "    <tr>\n",
       "      <th>8336</th>\n",
       "      <td>BREAKING: Ben Shapiro rebuts Joe Biden's 'path...</td>\n",
       "      <td>10</td>\n",
       "    </tr>\n",
       "    <tr>\n",
       "      <th>8337</th>\n",
       "      <td>BREAKING: Biden heckled over 13 killed soldier...</td>\n",
       "      <td>6</td>\n",
       "    </tr>\n",
       "    <tr>\n",
       "      <th>8338</th>\n",
       "      <td>State of the Union: Republicans hammer Biden f...</td>\n",
       "      <td>3</td>\n",
       "    </tr>\n",
       "    <tr>\n",
       "      <th>8339</th>\n",
       "      <td>State of the Union: Republicans hammer Biden f...</td>\n",
       "      <td>5</td>\n",
       "    </tr>\n",
       "    <tr>\n",
       "      <th>...</th>\n",
       "      <td>...</td>\n",
       "      <td>...</td>\n",
       "    </tr>\n",
       "    <tr>\n",
       "      <th>12839</th>\n",
       "      <td>\"You folks need to lay off of the theory and a...</td>\n",
       "      <td>9</td>\n",
       "    </tr>\n",
       "    <tr>\n",
       "      <th>12840</th>\n",
       "      <td>Carson's rejoinders to criticisms of his \"Stud...</td>\n",
       "      <td>10</td>\n",
       "    </tr>\n",
       "    <tr>\n",
       "      <th>12841</th>\n",
       "      <td>This Is the Obama-Aurora Billboard Everyone's ...</td>\n",
       "      <td>12</td>\n",
       "    </tr>\n",
       "    <tr>\n",
       "      <th>12842</th>\n",
       "      <td>Questions about The School Sucks Podcast</td>\n",
       "      <td>6</td>\n",
       "    </tr>\n",
       "    <tr>\n",
       "      <th>12845</th>\n",
       "      <td>Libertarianism and Anarchy</td>\n",
       "      <td>3</td>\n",
       "    </tr>\n",
       "  </tbody>\n",
       "</table>\n",
       "<p>2960 rows × 2 columns</p>\n",
       "</div>"
      ],
      "text/plain": [
       "                                                    body  score\n",
       "8334   You fired our troops, Don’t ever act like you ...     13\n",
       "8336   BREAKING: Ben Shapiro rebuts Joe Biden's 'path...     10\n",
       "8337   BREAKING: Biden heckled over 13 killed soldier...      6\n",
       "8338   State of the Union: Republicans hammer Biden f...      3\n",
       "8339   State of the Union: Republicans hammer Biden f...      5\n",
       "...                                                  ...    ...\n",
       "12839  \"You folks need to lay off of the theory and a...      9\n",
       "12840  Carson's rejoinders to criticisms of his \"Stud...     10\n",
       "12841  This Is the Obama-Aurora Billboard Everyone's ...     12\n",
       "12842           Questions about The School Sucks Podcast      6\n",
       "12845                         Libertarianism and Anarchy      3\n",
       "\n",
       "[2960 rows x 2 columns]"
      ]
     },
     "execution_count": 145,
     "metadata": {
     },
     "output_type": "execute_result"
    }
   ],
   "source": [
    "#importing kaggle dataset and removing unwanted columns\n",
    "repub_data_2 = pd.read_csv ('/projects/820ea3ac-497c-43fd-9cb7-abe34292faa8/SC22-BatchA-Blurred-Futures/Data/kaggle_dataset.csv')\n",
    "repub_data_2 = repub_data_2[repub_data_2['Political Lean'] == 'Conservative']\n",
    "repub_data_2 = repub_data_2[['Title', 'Score']]\n",
    "repub_data_2 = repub_data_2[repub_data_2['Title'] != '[removed]']\n",
    "repub_data_2 = repub_data_2[repub_data_2['Score']>=3]\n",
    "repub_data_2 = repub_data_2.replace(to_replace ='\\n', value = ' ', regex = True)\n",
    "repub_data_2.columns = ['body', 'score']\n",
    "repub_data_2"
   ]
  },
  {
   "cell_type": "code",
   "execution_count": 0,
   "metadata": {
    "collapsed": false
   },
   "outputs": [
   ],
   "source": [
   ]
  },
  {
   "cell_type": "code",
   "execution_count": 146,
   "metadata": {
    "collapsed": false
   },
   "outputs": [
   ],
   "source": [
    "extra = '\\n\"Please note that this is a **Republican** subreddit. Please mind our [rules](/r/Republicans Rules](https://www.reddit.com/r/Republicans/about/rules/). Trolls and anyone who violates the rules stated in this message may be banned.\" \\n\\n*I am a bot, and this action was performed automatically. Please [contact the moderators of this subreddit](/message/compose/?to=/r/republicans) if you have any questions or concerns.*'"
   ]
  },
  {
   "cell_type": "code",
   "execution_count": 0,
   "metadata": {
    "collapsed": false
   },
   "outputs": [
   ],
   "source": [
   ]
  },
  {
   "cell_type": "code",
   "execution_count": 147,
   "metadata": {
    "collapsed": false
   },
   "outputs": [
    {
     "data": {
      "text/html": [
       "<div>\n",
       "<style scoped>\n",
       "    .dataframe tbody tr th:only-of-type {\n",
       "        vertical-align: middle;\n",
       "    }\n",
       "\n",
       "    .dataframe tbody tr th {\n",
       "        vertical-align: top;\n",
       "    }\n",
       "\n",
       "    .dataframe thead th {\n",
       "        text-align: right;\n",
       "    }\n",
       "</style>\n",
       "<table border=\"1\" class=\"dataframe\">\n",
       "  <thead>\n",
       "    <tr style=\"text-align: right;\">\n",
       "      <th></th>\n",
       "      <th>body</th>\n",
       "      <th>score</th>\n",
       "    </tr>\n",
       "  </thead>\n",
       "  <tbody>\n",
       "    <tr>\n",
       "      <th>7</th>\n",
       "      <td>Ngl, Trump would look like a f****** boss if h...</td>\n",
       "      <td>2</td>\n",
       "    </tr>\n",
       "    <tr>\n",
       "      <th>10</th>\n",
       "      <td>This photo and its caption are self-evident.  ...</td>\n",
       "      <td>3</td>\n",
       "    </tr>\n",
       "    <tr>\n",
       "      <th>11</th>\n",
       "      <td>Love Steven Crowder!!!!💕</td>\n",
       "      <td>2</td>\n",
       "    </tr>\n",
       "    <tr>\n",
       "      <th>12</th>\n",
       "      <td>IMO, if she wants to represent our country on ...</td>\n",
       "      <td>2</td>\n",
       "    </tr>\n",
       "    <tr>\n",
       "      <th>16</th>\n",
       "      <td>Clever- love the “photo”- perfect.</td>\n",
       "      <td>2</td>\n",
       "    </tr>\n",
       "    <tr>\n",
       "      <th>...</th>\n",
       "      <td>...</td>\n",
       "      <td>...</td>\n",
       "    </tr>\n",
       "    <tr>\n",
       "      <th>24195</th>\n",
       "      <td>https://www.businessinsider.com/us-systemic-ra...</td>\n",
       "      <td>2</td>\n",
       "    </tr>\n",
       "    <tr>\n",
       "      <th>24198</th>\n",
       "      <td>Are you saying non-citizen immigrants are voti...</td>\n",
       "      <td>3</td>\n",
       "    </tr>\n",
       "    <tr>\n",
       "      <th>24200</th>\n",
       "      <td>Trump is going to cause us to lose 2024 and he...</td>\n",
       "      <td>2</td>\n",
       "    </tr>\n",
       "    <tr>\n",
       "      <th>24205</th>\n",
       "      <td>Quit buying Nike, simple</td>\n",
       "      <td>2</td>\n",
       "    </tr>\n",
       "    <tr>\n",
       "      <th>24207</th>\n",
       "      <td>Unfortunately it's with the half of Americans ...</td>\n",
       "      <td>2</td>\n",
       "    </tr>\n",
       "  </tbody>\n",
       "</table>\n",
       "<p>3789 rows × 2 columns</p>\n",
       "</div>"
      ],
      "text/plain": [
       "                                                    body  score\n",
       "7      Ngl, Trump would look like a f****** boss if h...      2\n",
       "10     This photo and its caption are self-evident.  ...      3\n",
       "11                              Love Steven Crowder!!!!💕      2\n",
       "12     IMO, if she wants to represent our country on ...      2\n",
       "16                    Clever- love the “photo”- perfect.      2\n",
       "...                                                  ...    ...\n",
       "24195  https://www.businessinsider.com/us-systemic-ra...      2\n",
       "24198  Are you saying non-citizen immigrants are voti...      3\n",
       "24200  Trump is going to cause us to lose 2024 and he...      2\n",
       "24205                           Quit buying Nike, simple      2\n",
       "24207  Unfortunately it's with the half of Americans ...      2\n",
       "\n",
       "[3789 rows x 2 columns]"
      ]
     },
     "execution_count": 147,
     "metadata": {
     },
     "output_type": "execute_result"
    }
   ],
   "source": [
    "#removing unwanted columns\n",
    "repub_data_1 = repub_data_1[repub_data_1['body'] != extra]\n",
    "repub_data_1 = repub_data_1[repub_data_1['body'] != '[removed]']\n",
    "repub_data_1 = repub_data_1[repub_data_1['score']>=2]\n",
    "repub_data_1 = repub_data_1.replace(to_replace ='\\n', value = ' ', regex = True)\n",
    "repub_data_1"
   ]
  },
  {
   "cell_type": "code",
   "execution_count": 148,
   "metadata": {
    "collapsed": false
   },
   "outputs": [
    {
     "data": {
      "text/plain": [
       "'The chocolate one is the best bar imo'"
      ]
     },
     "execution_count": 148,
     "metadata": {
     },
     "output_type": "execute_result"
    }
   ],
   "source": [
    "#combining dataframes\n",
    "frames = [repub_data_1, repub_data_2]\n",
    "repub_data = pd.concat(frames)\n",
    "repub_data['body'][24]"
   ]
  },
  {
   "cell_type": "code",
   "execution_count": 149,
   "metadata": {
    "collapsed": false
   },
   "outputs": [
   ],
   "source": [
    "#lowercasing\n",
    "repub_data['body'] = repub_data['body'].apply(lambda x: str(x).lower())"
   ]
  },
  {
   "cell_type": "code",
   "execution_count": 150,
   "metadata": {
    "collapsed": false
   },
   "outputs": [
    {
     "data": {
      "text/plain": [
       "(6749, 2)"
      ]
     },
     "execution_count": 150,
     "metadata": {
     },
     "output_type": "execute_result"
    }
   ],
   "source": [
    "#no more emails\n",
    "repub_data['body'] = repub_data['body'].apply(lambda x: re.sub(r'([a-z0-9+._-]+@[a-z0-9+._-]+\\.[a-z0-9+_-]+)',\"\", x))\n",
    "repub_data.shape"
   ]
  },
  {
   "cell_type": "code",
   "execution_count": 151,
   "metadata": {
    "collapsed": false
   },
   "outputs": [
    {
     "data": {
      "text/plain": [
       "(6749, 2)"
      ]
     },
     "execution_count": 151,
     "metadata": {
     },
     "output_type": "execute_result"
    }
   ],
   "source": [
    "#removes url\n",
    "repub_data['body'] = repub_data['body'].apply(lambda x: re.sub(r'(http|https|ftp|ssh)://([\\w_-]+(?:(?:\\.[\\w_-]+)+))([\\w.,@?^=%&:/~+#-]*[\\w@?^=%&/~+#-])?', '' , x))\n",
    "repub_data.shape"
   ]
  },
  {
   "cell_type": "code",
   "execution_count": 158,
   "metadata": {
    "collapsed": false
   },
   "outputs": [
    {
     "data": {
      "text/html": [
       "<div>\n",
       "<style scoped>\n",
       "    .dataframe tbody tr th:only-of-type {\n",
       "        vertical-align: middle;\n",
       "    }\n",
       "\n",
       "    .dataframe tbody tr th {\n",
       "        vertical-align: top;\n",
       "    }\n",
       "\n",
       "    .dataframe thead th {\n",
       "        text-align: right;\n",
       "    }\n",
       "</style>\n",
       "<table border=\"1\" class=\"dataframe\">\n",
       "  <thead>\n",
       "    <tr style=\"text-align: right;\">\n",
       "      <th></th>\n",
       "      <th>body</th>\n",
       "      <th>score</th>\n",
       "      <th>word_counts</th>\n",
       "    </tr>\n",
       "  </thead>\n",
       "  <tbody>\n",
       "    <tr>\n",
       "      <th>7</th>\n",
       "      <td>ngl, trump would look like a f****** boss if h...</td>\n",
       "      <td>2</td>\n",
       "      <td>28</td>\n",
       "    </tr>\n",
       "    <tr>\n",
       "      <th>10</th>\n",
       "      <td>this photo and its caption are self-evident. i...</td>\n",
       "      <td>3</td>\n",
       "      <td>91</td>\n",
       "    </tr>\n",
       "    <tr>\n",
       "      <th>12</th>\n",
       "      <td>imo, if she wants to represent our country on ...</td>\n",
       "      <td>2</td>\n",
       "      <td>116</td>\n",
       "    </tr>\n",
       "    <tr>\n",
       "      <th>21</th>\n",
       "      <td>the biden administration doesnt want them comi...</td>\n",
       "      <td>3</td>\n",
       "      <td>14</td>\n",
       "    </tr>\n",
       "    <tr>\n",
       "      <th>24</th>\n",
       "      <td>the chocolate one is the best bar imo</td>\n",
       "      <td>2</td>\n",
       "      <td>8</td>\n",
       "    </tr>\n",
       "    <tr>\n",
       "      <th>...</th>\n",
       "      <td>...</td>\n",
       "      <td>...</td>\n",
       "      <td>...</td>\n",
       "    </tr>\n",
       "    <tr>\n",
       "      <th>12832</th>\n",
       "      <td>us is the worst police state in the world  by ...</td>\n",
       "      <td>6</td>\n",
       "      <td>12</td>\n",
       "    </tr>\n",
       "    <tr>\n",
       "      <th>12837</th>\n",
       "      <td>how would restitution be enforced in an ancap ...</td>\n",
       "      <td>3</td>\n",
       "      <td>9</td>\n",
       "    </tr>\n",
       "    <tr>\n",
       "      <th>12839</th>\n",
       "      <td>\"you folks need to lay off of the theory and a...</td>\n",
       "      <td>9</td>\n",
       "      <td>14</td>\n",
       "    </tr>\n",
       "    <tr>\n",
       "      <th>12840</th>\n",
       "      <td>carson's rejoinders to criticisms of his \"stud...</td>\n",
       "      <td>10</td>\n",
       "      <td>12</td>\n",
       "    </tr>\n",
       "    <tr>\n",
       "      <th>12841</th>\n",
       "      <td>this is the obama-aurora billboard everyone's ...</td>\n",
       "      <td>12</td>\n",
       "      <td>8</td>\n",
       "    </tr>\n",
       "  </tbody>\n",
       "</table>\n",
       "<p>4875 rows × 3 columns</p>\n",
       "</div>"
      ],
      "text/plain": [
       "                                                    body  score  word_counts\n",
       "7      ngl, trump would look like a f****** boss if h...      2           28\n",
       "10     this photo and its caption are self-evident. i...      3           91\n",
       "12     imo, if she wants to represent our country on ...      2          116\n",
       "21     the biden administration doesnt want them comi...      3           14\n",
       "24                 the chocolate one is the best bar imo      2            8\n",
       "...                                                  ...    ...          ...\n",
       "12832  us is the worst police state in the world  by ...      6           12\n",
       "12837  how would restitution be enforced in an ancap ...      3            9\n",
       "12839  \"you folks need to lay off of the theory and a...      9           14\n",
       "12840  carson's rejoinders to criticisms of his \"stud...     10           12\n",
       "12841  this is the obama-aurora billboard everyone's ...     12            8\n",
       "\n",
       "[4875 rows x 3 columns]"
      ]
     },
     "execution_count": 158,
     "metadata": {
     },
     "output_type": "execute_result"
    }
   ],
   "source": [
    "#figure out how to keep ./-,\n",
    "repub_data['body'] = repub_data['body'].apply(lambda x: re.sub(r'[^\\w ]+^.?!', \"\", x))\n",
    "repub_data"
   ]
  },
  {
   "cell_type": "code",
   "execution_count": 153,
   "metadata": {
    "collapsed": false
   },
   "outputs": [
    {
     "data": {
      "text/plain": [
       "(6732, 2)"
      ]
     },
     "execution_count": 153,
     "metadata": {
     },
     "output_type": "execute_result"
    }
   ],
   "source": [
    "repub_data = repub_data[repub_data['body'] != '']\n",
    "repub_data.shape"
   ]
  },
  {
   "cell_type": "code",
   "execution_count": 154,
   "metadata": {
    "collapsed": false
   },
   "outputs": [
    {
     "name": "stderr",
     "output_type": "stream",
     "text": [
      "/tmp/ipykernel_5034/984530229.py:2: SettingWithCopyWarning: \n",
      "A value is trying to be set on a copy of a slice from a DataFrame.\n",
      "Try using .loc[row_indexer,col_indexer] = value instead\n",
      "\n",
      "See the caveats in the documentation: https://pandas.pydata.org/pandas-docs/stable/user_guide/indexing.html#returning-a-view-versus-a-copy\n",
      "  repub_data['body'] = repub_data['body'].apply(lambda x: ' '.join(x.split()))\n"
     ]
    }
   ],
   "source": [
    "#removes multiple spaces\n",
    "repub_data['body'] = repub_data['body'].apply(lambda x: ' '.join(x.split()))"
   ]
  },
  {
   "cell_type": "code",
   "execution_count": 155,
   "metadata": {
    "collapsed": false
   },
   "outputs": [
    {
     "name": "stderr",
     "output_type": "stream",
     "text": [
      "/projects/820ea3ac-497c-43fd-9cb7-abe34292faa8/miniconda3/lib/python3.9/site-packages/bs4/__init__.py:435: MarkupResemblesLocatorWarning: The input looks more like a filename than markup. You may want to open this file and pass the filehandle into Beautiful Soup.\n",
      "  warnings.warn(\n"
     ]
    },
    {
     "name": "stderr",
     "output_type": "stream",
     "text": [
      "/tmp/ipykernel_5034/3590185498.py:2: SettingWithCopyWarning: \n",
      "A value is trying to be set on a copy of a slice from a DataFrame.\n",
      "Try using .loc[row_indexer,col_indexer] = value instead\n",
      "\n",
      "See the caveats in the documentation: https://pandas.pydata.org/pandas-docs/stable/user_guide/indexing.html#returning-a-view-versus-a-copy\n",
      "  repub_data['body'] = repub_data['body'].apply(lambda x: BeautifulSoup(x, 'html.parser').get_text().strip())\n"
     ]
    }
   ],
   "source": [
    "#removes html\n",
    "repub_data['body'] = repub_data['body'].apply(lambda x: BeautifulSoup(x, 'html.parser').get_text().strip())"
   ]
  },
  {
   "cell_type": "code",
   "execution_count": 156,
   "metadata": {
    "collapsed": false
   },
   "outputs": [
    {
     "name": "stderr",
     "output_type": "stream",
     "text": [
      "/tmp/ipykernel_5034/679790486.py:4: SettingWithCopyWarning: \n",
      "A value is trying to be set on a copy of a slice from a DataFrame.\n",
      "Try using .loc[row_indexer,col_indexer] = value instead\n",
      "\n",
      "See the caveats in the documentation: https://pandas.pydata.org/pandas-docs/stable/user_guide/indexing.html#returning-a-view-versus-a-copy\n",
      "  repub_data['body'] = repub_data['body'].apply(lambda x: remove_accented_chars(x))\n"
     ]
    }
   ],
   "source": [
    "#removes Accents\n",
    "def remove_accented_chars(x):\n",
    "    x = unicodedata.normalize('NFKD', x).encode('ascii', 'ignore').decode('utf-8', 'ignore')\n",
    "    return x\n",
    "repub_data['body'] = repub_data['body'].apply(lambda x: remove_accented_chars(x))"
   ]
  },
  {
   "cell_type": "code",
   "execution_count": 159,
   "metadata": {
    "collapsed": false
   },
   "outputs": [
    {
     "data": {
      "text/html": [
       "<div>\n",
       "<style scoped>\n",
       "    .dataframe tbody tr th:only-of-type {\n",
       "        vertical-align: middle;\n",
       "    }\n",
       "\n",
       "    .dataframe tbody tr th {\n",
       "        vertical-align: top;\n",
       "    }\n",
       "\n",
       "    .dataframe thead th {\n",
       "        text-align: right;\n",
       "    }\n",
       "</style>\n",
       "<table border=\"1\" class=\"dataframe\">\n",
       "  <thead>\n",
       "    <tr style=\"text-align: right;\">\n",
       "      <th></th>\n",
       "      <th>body</th>\n",
       "      <th>score</th>\n",
       "      <th>word_counts</th>\n",
       "    </tr>\n",
       "  </thead>\n",
       "  <tbody>\n",
       "    <tr>\n",
       "      <th>7</th>\n",
       "      <td>ngl, trump would look like a f****** boss if h...</td>\n",
       "      <td>2</td>\n",
       "      <td>28</td>\n",
       "    </tr>\n",
       "    <tr>\n",
       "      <th>10</th>\n",
       "      <td>this photo and its caption are self-evident. i...</td>\n",
       "      <td>3</td>\n",
       "      <td>91</td>\n",
       "    </tr>\n",
       "    <tr>\n",
       "      <th>12</th>\n",
       "      <td>imo, if she wants to represent our country on ...</td>\n",
       "      <td>2</td>\n",
       "      <td>116</td>\n",
       "    </tr>\n",
       "    <tr>\n",
       "      <th>21</th>\n",
       "      <td>the biden administration doesnt want them comi...</td>\n",
       "      <td>3</td>\n",
       "      <td>14</td>\n",
       "    </tr>\n",
       "    <tr>\n",
       "      <th>26</th>\n",
       "      <td>everything about this current white house admi...</td>\n",
       "      <td>2</td>\n",
       "      <td>11</td>\n",
       "    </tr>\n",
       "    <tr>\n",
       "      <th>...</th>\n",
       "      <td>...</td>\n",
       "      <td>...</td>\n",
       "      <td>...</td>\n",
       "    </tr>\n",
       "    <tr>\n",
       "      <th>12825</th>\n",
       "      <td>\"the internet is the first thing that humanity...</td>\n",
       "      <td>13</td>\n",
       "      <td>28</td>\n",
       "    </tr>\n",
       "    <tr>\n",
       "      <th>12832</th>\n",
       "      <td>us is the worst police state in the world  by ...</td>\n",
       "      <td>6</td>\n",
       "      <td>12</td>\n",
       "    </tr>\n",
       "    <tr>\n",
       "      <th>12837</th>\n",
       "      <td>how would restitution be enforced in an ancap ...</td>\n",
       "      <td>3</td>\n",
       "      <td>9</td>\n",
       "    </tr>\n",
       "    <tr>\n",
       "      <th>12839</th>\n",
       "      <td>\"you folks need to lay off of the theory and a...</td>\n",
       "      <td>9</td>\n",
       "      <td>14</td>\n",
       "    </tr>\n",
       "    <tr>\n",
       "      <th>12840</th>\n",
       "      <td>carson's rejoinders to criticisms of his \"stud...</td>\n",
       "      <td>10</td>\n",
       "      <td>12</td>\n",
       "    </tr>\n",
       "  </tbody>\n",
       "</table>\n",
       "<p>4489 rows × 3 columns</p>\n",
       "</div>"
      ],
      "text/plain": [
       "                                                    body  score  word_counts\n",
       "7      ngl, trump would look like a f****** boss if h...      2           28\n",
       "10     this photo and its caption are self-evident. i...      3           91\n",
       "12     imo, if she wants to represent our country on ...      2          116\n",
       "21     the biden administration doesnt want them comi...      3           14\n",
       "26     everything about this current white house admi...      2           11\n",
       "...                                                  ...    ...          ...\n",
       "12825  \"the internet is the first thing that humanity...     13           28\n",
       "12832  us is the worst police state in the world  by ...      6           12\n",
       "12837  how would restitution be enforced in an ancap ...      3            9\n",
       "12839  \"you folks need to lay off of the theory and a...      9           14\n",
       "12840  carson's rejoinders to criticisms of his \"stud...     10           12\n",
       "\n",
       "[4489 rows x 3 columns]"
      ]
     },
     "execution_count": 159,
     "metadata": {
     },
     "output_type": "execute_result"
    }
   ],
   "source": [
    "#filters out word counts\n",
    "repub_data['word_counts'] = repub_data['body'].apply(lambda x: len(str(x).split()))\n",
    "repub_data = repub_data[repub_data['word_counts']>8]\n",
    "repub_data"
   ]
  },
  {
   "cell_type": "code",
   "execution_count": 163,
   "metadata": {
    "collapsed": false
   },
   "outputs": [
    {
     "data": {
      "text/plain": [
       "(4489, 3)"
      ]
     },
     "execution_count": 163,
     "metadata": {
     },
     "output_type": "execute_result"
    }
   ],
   "source": [
    "repub_data = repub_data[repub_data['body'] != '[deleted]']\n",
    "repub_data.shape"
   ]
  },
  {
   "cell_type": "code",
   "execution_count": 161,
   "metadata": {
    "collapsed": false
   },
   "outputs": [
   ],
   "source": [
    "path='/projects/820ea3ac-497c-43fd-9cb7-abe34292faa8/SC22-BatchA-Blurred-Futures/Data/'"
   ]
  },
  {
   "cell_type": "code",
   "execution_count": 162,
   "metadata": {
    "collapsed": false
   },
   "outputs": [
   ],
   "source": [
    "repub_data.to_csv(path+'clean-republican-data.csv')"
   ]
  }
 ],
 "metadata": {
  "kernelspec": {
   "display_name": "Python (nlp_env)",
   "language": "python",
   "metadata": {
    "debugger": true
   },
   "name": "nlp_env",
   "resource_dir": "/projects/820ea3ac-497c-43fd-9cb7-abe34292faa8/.local/share/jupyter/kernels/nlp_env"
  },
  "language_info": {
   "codemirror_mode": {
    "name": "ipython",
    "version": 3
   },
   "file_extension": ".py",
   "mimetype": "text/x-python",
   "name": "python",
   "nbconvert_exporter": "python",
   "pygments_lexer": "ipython3",
   "version": "3.9.12"
  }
 },
 "nbformat": 4,
 "nbformat_minor": 4
}