{
 "cells": [
  {
   "cell_type": "code",
   "execution_count": 1,
   "metadata": {
    "collapsed": false
   },
   "outputs": [
    {
     "data": {
      "text/plain": [
       "'/projects/820ea3ac-497c-43fd-9cb7-abe34292faa8/SC22-BatchA-Blurred-Futures/Team 2 - Conservative'"
      ]
     },
     "execution_count": 1,
     "metadata": {
     },
     "output_type": "execute_result"
    }
   ],
   "source": [
    "pwd"
   ]
  },
  {
   "cell_type": "code",
   "execution_count": 17,
   "metadata": {
    "collapsed": false
   },
   "outputs": [
    {
     "data": {
      "text/html": [
       "<div>\n",
       "<style scoped>\n",
       "    .dataframe tbody tr th:only-of-type {\n",
       "        vertical-align: middle;\n",
       "    }\n",
       "\n",
       "    .dataframe tbody tr th {\n",
       "        vertical-align: top;\n",
       "    }\n",
       "\n",
       "    .dataframe thead th {\n",
       "        text-align: right;\n",
       "    }\n",
       "</style>\n",
       "<table border=\"1\" class=\"dataframe\">\n",
       "  <thead>\n",
       "    <tr style=\"text-align: right;\">\n",
       "      <th></th>\n",
       "      <th>body</th>\n",
       "      <th>score</th>\n",
       "    </tr>\n",
       "  </thead>\n",
       "  <tbody>\n",
       "    <tr>\n",
       "      <th>0</th>\n",
       "      <td>Serious question. Why do Republicans always ta...</td>\n",
       "      <td>0</td>\n",
       "    </tr>\n",
       "    <tr>\n",
       "      <th>1</th>\n",
       "      <td>You think Lebron James wants complete abolishm...</td>\n",
       "      <td>0</td>\n",
       "    </tr>\n",
       "    <tr>\n",
       "      <th>2</th>\n",
       "      <td>I thought it was the welfare and govt help\\n t...</td>\n",
       "      <td>0</td>\n",
       "    </tr>\n",
       "    <tr>\n",
       "      <th>3</th>\n",
       "      <td>Ngl it is a good luck. Did you ever find that ...</td>\n",
       "      <td>1</td>\n",
       "    </tr>\n",
       "    <tr>\n",
       "      <th>4</th>\n",
       "      <td>Why? He’s right</td>\n",
       "      <td>0</td>\n",
       "    </tr>\n",
       "    <tr>\n",
       "      <th>...</th>\n",
       "      <td>...</td>\n",
       "      <td>...</td>\n",
       "    </tr>\n",
       "    <tr>\n",
       "      <th>24211</th>\n",
       "      <td>Gunman kills 19 children in Texas school rampa...</td>\n",
       "      <td>1</td>\n",
       "    </tr>\n",
       "    <tr>\n",
       "      <th>24212</th>\n",
       "      <td>Gunman kills 19 children in Texas school rampa...</td>\n",
       "      <td>1</td>\n",
       "    </tr>\n",
       "    <tr>\n",
       "      <th>24213</th>\n",
       "      <td>\\n\"Please note that this is a **Republican** s...</td>\n",
       "      <td>1</td>\n",
       "    </tr>\n",
       "    <tr>\n",
       "      <th>24214</th>\n",
       "      <td>\\n\"Please note that this is a **Republican** s...</td>\n",
       "      <td>1</td>\n",
       "    </tr>\n",
       "    <tr>\n",
       "      <th>24215</th>\n",
       "      <td>\\n\"Please note that this is a **Republican** s...</td>\n",
       "      <td>1</td>\n",
       "    </tr>\n",
       "  </tbody>\n",
       "</table>\n",
       "<p>24216 rows × 2 columns</p>\n",
       "</div>"
      ],
      "text/plain": [
       "                                                    body  score\n",
       "0      Serious question. Why do Republicans always ta...      0\n",
       "1      You think Lebron James wants complete abolishm...      0\n",
       "2      I thought it was the welfare and govt help\\n t...      0\n",
       "3      Ngl it is a good luck. Did you ever find that ...      1\n",
       "4                                        Why? He’s right      0\n",
       "...                                                  ...    ...\n",
       "24211  Gunman kills 19 children in Texas school rampa...      1\n",
       "24212  Gunman kills 19 children in Texas school rampa...      1\n",
       "24213  \\n\"Please note that this is a **Republican** s...      1\n",
       "24214  \\n\"Please note that this is a **Republican** s...      1\n",
       "24215  \\n\"Please note that this is a **Republican** s...      1\n",
       "\n",
       "[24216 rows x 2 columns]"
      ]
     },
     "execution_count": 17,
     "metadata": {
     },
     "output_type": "execute_result"
    }
   ],
   "source": [
    "import pandas as pd\n",
    "\n",
    "repub_data = pd.read_csv ('/projects/820ea3ac-497c-43fd-9cb7-abe34292faa8/SC22-BatchA-Blurred-Futures/Data/nishant-republicans-1year.csv')\n",
    "repub_data = repub_data[['body', 'score']] \n",
    "repub_data"
   ]
  },
  {
   "cell_type": "code",
   "execution_count": 9,
   "metadata": {
    "collapsed": false
   },
   "outputs": [
   ],
   "source": [
    "extra = '\\n\"Please note that this is a **Republican** subreddit. Please mind our [rules](/r/Republicans Rules](https://www.reddit.com/r/Republicans/about/rules/). Trolls and anyone who violates the rules stated in this message may be banned.\" \\n\\n*I am a bot, and this action was performed automatically. Please [contact the moderators of this subreddit](/message/compose/?to=/r/republicans) if you have any questions or concerns.*'"
   ]
  },
  {
   "cell_type": "code",
   "execution_count": 18,
   "metadata": {
    "collapsed": false
   },
   "outputs": [
    {
     "data": {
      "text/html": [
       "<div>\n",
       "<style scoped>\n",
       "    .dataframe tbody tr th:only-of-type {\n",
       "        vertical-align: middle;\n",
       "    }\n",
       "\n",
       "    .dataframe tbody tr th {\n",
       "        vertical-align: top;\n",
       "    }\n",
       "\n",
       "    .dataframe thead th {\n",
       "        text-align: right;\n",
       "    }\n",
       "</style>\n",
       "<table border=\"1\" class=\"dataframe\">\n",
       "  <thead>\n",
       "    <tr style=\"text-align: right;\">\n",
       "      <th></th>\n",
       "      <th>body</th>\n",
       "      <th>score</th>\n",
       "    </tr>\n",
       "  </thead>\n",
       "  <tbody>\n",
       "    <tr>\n",
       "      <th>0</th>\n",
       "      <td>Serious question. Why do Republicans always ta...</td>\n",
       "      <td>0</td>\n",
       "    </tr>\n",
       "    <tr>\n",
       "      <th>1</th>\n",
       "      <td>You think Lebron James wants complete abolishm...</td>\n",
       "      <td>0</td>\n",
       "    </tr>\n",
       "    <tr>\n",
       "      <th>2</th>\n",
       "      <td>I thought it was the welfare and govt help  th...</td>\n",
       "      <td>0</td>\n",
       "    </tr>\n",
       "    <tr>\n",
       "      <th>3</th>\n",
       "      <td>Ngl it is a good luck. Did you ever find that ...</td>\n",
       "      <td>1</td>\n",
       "    </tr>\n",
       "    <tr>\n",
       "      <th>4</th>\n",
       "      <td>Why? He’s right</td>\n",
       "      <td>0</td>\n",
       "    </tr>\n",
       "    <tr>\n",
       "      <th>...</th>\n",
       "      <td>...</td>\n",
       "      <td>...</td>\n",
       "    </tr>\n",
       "    <tr>\n",
       "      <th>24211</th>\n",
       "      <td>Gunman kills 19 children in Texas school rampa...</td>\n",
       "      <td>1</td>\n",
       "    </tr>\n",
       "    <tr>\n",
       "      <th>24212</th>\n",
       "      <td>Gunman kills 19 children in Texas school rampa...</td>\n",
       "      <td>1</td>\n",
       "    </tr>\n",
       "    <tr>\n",
       "      <th>24213</th>\n",
       "      <td>\"Please note that this is a **Republican** su...</td>\n",
       "      <td>1</td>\n",
       "    </tr>\n",
       "    <tr>\n",
       "      <th>24214</th>\n",
       "      <td>\"Please note that this is a **Republican** su...</td>\n",
       "      <td>1</td>\n",
       "    </tr>\n",
       "    <tr>\n",
       "      <th>24215</th>\n",
       "      <td>\"Please note that this is a **Republican** su...</td>\n",
       "      <td>1</td>\n",
       "    </tr>\n",
       "  </tbody>\n",
       "</table>\n",
       "<p>23077 rows × 2 columns</p>\n",
       "</div>"
      ],
      "text/plain": [
       "                                                    body  score\n",
       "0      Serious question. Why do Republicans always ta...      0\n",
       "1      You think Lebron James wants complete abolishm...      0\n",
       "2      I thought it was the welfare and govt help  th...      0\n",
       "3      Ngl it is a good luck. Did you ever find that ...      1\n",
       "4                                        Why? He’s right      0\n",
       "...                                                  ...    ...\n",
       "24211  Gunman kills 19 children in Texas school rampa...      1\n",
       "24212  Gunman kills 19 children in Texas school rampa...      1\n",
       "24213   \"Please note that this is a **Republican** su...      1\n",
       "24214   \"Please note that this is a **Republican** su...      1\n",
       "24215   \"Please note that this is a **Republican** su...      1\n",
       "\n",
       "[23077 rows x 2 columns]"
      ]
     },
     "execution_count": 18,
     "metadata": {
     },
     "output_type": "execute_result"
    }
   ],
   "source": [
    "repub_data = repub_data[repub_data['body'] != extra]\n",
    "repub_data = repub_data[repub_data['body'] != '[removed]']\n",
    "repub_data = repub_data[repub_data['score']>=2]\n",
    "repub_data = repub_data.replace(to_replace ='\\n', value = ' ', regex = True)\n",
    "repub_data"
   ]
  },
  {
   "cell_type": "code",
   "execution_count": 0,
   "metadata": {
    "collapsed": false
   },
   "outputs": [
   ],
   "source": [
    "\n"
   ]
  },
  {
   "cell_type": "code",
   "execution_count": 0,
   "metadata": {
    "collapsed": false
   },
   "outputs": [
   ],
   "source": [
    "repub_data = pd.read_csv ('/projects/820ea3ac-497c-43fd-9cb7-abe34292faa8/SC22-BatchA-Blurred-Futures/Data/dataset')\n",
    "repub_data.head()"
   ]
  },
  {
   "cell_type": "code",
   "execution_count": 6,
   "metadata": {
    "collapsed": false
   },
   "outputs": [
    {
     "data": {
      "text/html": [
       "<div>\n",
       "<style scoped>\n",
       "    .dataframe tbody tr th:only-of-type {\n",
       "        vertical-align: middle;\n",
       "    }\n",
       "\n",
       "    .dataframe tbody tr th {\n",
       "        vertical-align: top;\n",
       "    }\n",
       "\n",
       "    .dataframe thead th {\n",
       "        text-align: right;\n",
       "    }\n",
       "</style>\n",
       "<table border=\"1\" class=\"dataframe\">\n",
       "  <thead>\n",
       "    <tr style=\"text-align: right;\">\n",
       "      <th></th>\n",
       "      <th>body</th>\n",
       "      <th>score</th>\n",
       "    </tr>\n",
       "  </thead>\n",
       "  <tbody>\n",
       "    <tr>\n",
       "      <th>10</th>\n",
       "      <td>This photo and its caption are self-evident.  ...</td>\n",
       "      <td>3</td>\n",
       "    </tr>\n",
       "    <tr>\n",
       "      <th>21</th>\n",
       "      <td>The Biden administration doesn’t want them com...</td>\n",
       "      <td>3</td>\n",
       "    </tr>\n",
       "    <tr>\n",
       "      <th>28</th>\n",
       "      <td>Yes, but this post isn't in support of police ...</td>\n",
       "      <td>4</td>\n",
       "    </tr>\n",
       "    <tr>\n",
       "      <th>32</th>\n",
       "      <td>Cubans have had the best of immigration deals ...</td>\n",
       "      <td>3</td>\n",
       "    </tr>\n",
       "    <tr>\n",
       "      <th>35</th>\n",
       "      <td>Fantasizing about a man growing a beard.  r/su...</td>\n",
       "      <td>4</td>\n",
       "    </tr>\n",
       "  </tbody>\n",
       "</table>\n",
       "</div>"
      ],
      "text/plain": [
       "                                                 body  score\n",
       "10  This photo and its caption are self-evident.  ...      3\n",
       "21  The Biden administration doesn’t want them com...      3\n",
       "28  Yes, but this post isn't in support of police ...      4\n",
       "32  Cubans have had the best of immigration deals ...      3\n",
       "35  Fantasizing about a man growing a beard.  r/su...      4"
      ]
     },
     "execution_count": 6,
     "metadata": {
     },
     "output_type": "execute_result"
    }
   ],
   "source": [
   ]
  }
 ],
 "metadata": {
  "kernelspec": {
   "display_name": "Python (nlp_env)",
   "language": "python",
   "metadata": {
    "debugger": true
   },
   "name": "nlp_env",
   "resource_dir": "/projects/820ea3ac-497c-43fd-9cb7-abe34292faa8/.local/share/jupyter/kernels/nlp_env"
  }
 },
 "nbformat": 4,
 "nbformat_minor": 4
}