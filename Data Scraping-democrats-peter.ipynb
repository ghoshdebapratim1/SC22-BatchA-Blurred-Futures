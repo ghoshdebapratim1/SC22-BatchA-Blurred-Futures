{
 "cells": [
  {
   "cell_type": "code",
   "execution_count": 9,
   "metadata": {
    "collapsed": false
   },
   "outputs": [
   ],
   "source": [
    "import datetime as dt \n",
    "#from psaw import PushshiftAPI\n",
    "from pmaw import PushshiftAPI\n",
    "#import praw\n",
    "import pandas as pd"
   ]
  },
  {
   "cell_type": "code",
   "execution_count": 10,
   "metadata": {
    "collapsed": false
   },
   "outputs": [
   ],
   "source": [
    "\n",
    "before = int(dt.datetime(2022,6,10,0,0).timestamp())\n",
    "after = int(dt.datetime(2022,6,9,0,0).timestamp())\n",
    "api = PushshiftAPI()\n",
    "subreddit=\"democrats\"\n",
    "limit=10\n",
    "posts = api.search_comments(subreddit=subreddit, limit=limit, before=before, after=after)\n",
    "posts_df = pd.DataFrame(posts)\n",
    "#posts_df=posts_df['title']\n",
    " "
   ]
  },
  {
   "cell_type": "code",
   "execution_count": 31,
   "metadata": {
    "collapsed": false
   },
   "outputs": [
    {
     "data": {
      "text/html": [
       "<div>\n",
       "<style scoped>\n",
       "    .dataframe tbody tr th:only-of-type {\n",
       "        vertical-align: middle;\n",
       "    }\n",
       "\n",
       "    .dataframe tbody tr th {\n",
       "        vertical-align: top;\n",
       "    }\n",
       "\n",
       "    .dataframe thead th {\n",
       "        text-align: right;\n",
       "    }\n",
       "</style>\n",
       "<table border=\"1\" class=\"dataframe\">\n",
       "  <thead>\n",
       "    <tr style=\"text-align: right;\">\n",
       "      <th></th>\n",
       "      <th>all_awardings</th>\n",
       "      <th>archived</th>\n",
       "      <th>associated_award</th>\n",
       "      <th>author</th>\n",
       "      <th>author_flair_background_color</th>\n",
       "      <th>author_flair_css_class</th>\n",
       "      <th>author_flair_template_id</th>\n",
       "      <th>author_flair_text</th>\n",
       "      <th>author_flair_text_color</th>\n",
       "      <th>body</th>\n",
       "      <th>...</th>\n",
       "      <th>subreddit_type</th>\n",
       "      <th>top_awarded_type</th>\n",
       "      <th>total_awards_received</th>\n",
       "      <th>treatment_tags</th>\n",
       "      <th>unrepliable_reason</th>\n",
       "      <th>author_flair_richtext</th>\n",
       "      <th>author_flair_type</th>\n",
       "      <th>author_fullname</th>\n",
       "      <th>author_patreon_flair</th>\n",
       "      <th>author_premium</th>\n",
       "    </tr>\n",
       "  </thead>\n",
       "  <tbody>\n",
       "    <tr>\n",
       "      <th>0</th>\n",
       "      <td>[]</td>\n",
       "      <td>False</td>\n",
       "      <td>None</td>\n",
       "      <td>[deleted]</td>\n",
       "      <td></td>\n",
       "      <td>None</td>\n",
       "      <td>None</td>\n",
       "      <td>None</td>\n",
       "      <td>dark</td>\n",
       "      <td>[removed]</td>\n",
       "      <td>...</td>\n",
       "      <td>public</td>\n",
       "      <td>None</td>\n",
       "      <td>0</td>\n",
       "      <td>[]</td>\n",
       "      <td>None</td>\n",
       "      <td>NaN</td>\n",
       "      <td>NaN</td>\n",
       "      <td>NaN</td>\n",
       "      <td>NaN</td>\n",
       "      <td>NaN</td>\n",
       "    </tr>\n",
       "    <tr>\n",
       "      <th>1</th>\n",
       "      <td>[]</td>\n",
       "      <td>False</td>\n",
       "      <td>None</td>\n",
       "      <td>[deleted]</td>\n",
       "      <td></td>\n",
       "      <td>None</td>\n",
       "      <td>None</td>\n",
       "      <td>None</td>\n",
       "      <td>dark</td>\n",
       "      <td>[removed]</td>\n",
       "      <td>...</td>\n",
       "      <td>public</td>\n",
       "      <td>None</td>\n",
       "      <td>0</td>\n",
       "      <td>[]</td>\n",
       "      <td>None</td>\n",
       "      <td>NaN</td>\n",
       "      <td>NaN</td>\n",
       "      <td>NaN</td>\n",
       "      <td>NaN</td>\n",
       "      <td>NaN</td>\n",
       "    </tr>\n",
       "    <tr>\n",
       "      <th>2</th>\n",
       "      <td>[]</td>\n",
       "      <td>False</td>\n",
       "      <td>None</td>\n",
       "      <td>moreobviousthings</td>\n",
       "      <td>None</td>\n",
       "      <td>None</td>\n",
       "      <td>None</td>\n",
       "      <td>None</td>\n",
       "      <td>None</td>\n",
       "      <td>1. Attend a gun show.\\n\\n2. Sell a gun.\\n\\n3. ...</td>\n",
       "      <td>...</td>\n",
       "      <td>public</td>\n",
       "      <td>None</td>\n",
       "      <td>0</td>\n",
       "      <td>[]</td>\n",
       "      <td>None</td>\n",
       "      <td>[]</td>\n",
       "      <td>text</td>\n",
       "      <td>t2_aegpd9ir</td>\n",
       "      <td>False</td>\n",
       "      <td>False</td>\n",
       "    </tr>\n",
       "    <tr>\n",
       "      <th>3</th>\n",
       "      <td>[]</td>\n",
       "      <td>False</td>\n",
       "      <td>None</td>\n",
       "      <td>sanna43</td>\n",
       "      <td>None</td>\n",
       "      <td>None</td>\n",
       "      <td>None</td>\n",
       "      <td>None</td>\n",
       "      <td>None</td>\n",
       "      <td>But if they can't hear it from family, and won...</td>\n",
       "      <td>...</td>\n",
       "      <td>public</td>\n",
       "      <td>None</td>\n",
       "      <td>0</td>\n",
       "      <td>[]</td>\n",
       "      <td>None</td>\n",
       "      <td>[]</td>\n",
       "      <td>text</td>\n",
       "      <td>t2_ip4jh</td>\n",
       "      <td>False</td>\n",
       "      <td>False</td>\n",
       "    </tr>\n",
       "    <tr>\n",
       "      <th>4</th>\n",
       "      <td>[]</td>\n",
       "      <td>False</td>\n",
       "      <td>None</td>\n",
       "      <td>vestarules</td>\n",
       "      <td>None</td>\n",
       "      <td>None</td>\n",
       "      <td>None</td>\n",
       "      <td>None</td>\n",
       "      <td>None</td>\n",
       "      <td>Guns don’t kill people, people kill people. Bu...</td>\n",
       "      <td>...</td>\n",
       "      <td>public</td>\n",
       "      <td>None</td>\n",
       "      <td>0</td>\n",
       "      <td>[]</td>\n",
       "      <td>None</td>\n",
       "      <td>[]</td>\n",
       "      <td>text</td>\n",
       "      <td>t2_6abmzfz</td>\n",
       "      <td>False</td>\n",
       "      <td>True</td>\n",
       "    </tr>\n",
       "  </tbody>\n",
       "</table>\n",
       "<p>5 rows × 47 columns</p>\n",
       "</div>"
      ],
      "text/plain": [
       "  all_awardings  archived associated_award             author  \\\n",
       "0            []     False             None          [deleted]   \n",
       "1            []     False             None          [deleted]   \n",
       "2            []     False             None  moreobviousthings   \n",
       "3            []     False             None            sanna43   \n",
       "4            []     False             None         vestarules   \n",
       "\n",
       "  author_flair_background_color author_flair_css_class  \\\n",
       "0                                                 None   \n",
       "1                                                 None   \n",
       "2                          None                   None   \n",
       "3                          None                   None   \n",
       "4                          None                   None   \n",
       "\n",
       "  author_flair_template_id author_flair_text author_flair_text_color  \\\n",
       "0                     None              None                    dark   \n",
       "1                     None              None                    dark   \n",
       "2                     None              None                    None   \n",
       "3                     None              None                    None   \n",
       "4                     None              None                    None   \n",
       "\n",
       "                                                body  ... subreddit_type  \\\n",
       "0                                          [removed]  ...         public   \n",
       "1                                          [removed]  ...         public   \n",
       "2  1. Attend a gun show.\\n\\n2. Sell a gun.\\n\\n3. ...  ...         public   \n",
       "3  But if they can't hear it from family, and won...  ...         public   \n",
       "4  Guns don’t kill people, people kill people. Bu...  ...         public   \n",
       "\n",
       "   top_awarded_type  total_awards_received treatment_tags unrepliable_reason  \\\n",
       "0              None                      0             []               None   \n",
       "1              None                      0             []               None   \n",
       "2              None                      0             []               None   \n",
       "3              None                      0             []               None   \n",
       "4              None                      0             []               None   \n",
       "\n",
       "  author_flair_richtext author_flair_type  author_fullname  \\\n",
       "0                   NaN               NaN              NaN   \n",
       "1                   NaN               NaN              NaN   \n",
       "2                    []              text      t2_aegpd9ir   \n",
       "3                    []              text         t2_ip4jh   \n",
       "4                    []              text       t2_6abmzfz   \n",
       "\n",
       "   author_patreon_flair author_premium  \n",
       "0                   NaN            NaN  \n",
       "1                   NaN            NaN  \n",
       "2                 False          False  \n",
       "3                 False          False  \n",
       "4                 False           True  \n",
       "\n",
       "[5 rows x 47 columns]"
      ]
     },
     "execution_count": 31,
     "metadata": {
     },
     "output_type": "execute_result"
    }
   ],
   "source": [
    "posts_df.head()"
   ]
  },
  {
   "cell_type": "code",
   "execution_count": 11,
   "metadata": {
    "collapsed": false
   },
   "outputs": [
    {
     "data": {
      "text/plain": [
       "Index(['all_awardings', 'archived', 'associated_award', 'author',\n",
       "       'author_flair_background_color', 'author_flair_css_class',\n",
       "       'author_flair_template_id', 'author_flair_text',\n",
       "       'author_flair_text_color', 'body', 'body_sha1', 'can_gild', 'collapsed',\n",
       "       'collapsed_because_crowd_control', 'collapsed_reason',\n",
       "       'collapsed_reason_code', 'comment_type', 'controversiality',\n",
       "       'created_utc', 'distinguished', 'gilded', 'gildings', 'id',\n",
       "       'is_submitter', 'link_id', 'locked', 'no_follow', 'parent_id',\n",
       "       'permalink', 'retrieved_utc', 'score', 'score_hidden', 'send_replies',\n",
       "       'stickied', 'subreddit', 'subreddit_id', 'subreddit_name_prefixed',\n",
       "       'subreddit_type', 'top_awarded_type', 'total_awards_received',\n",
       "       'treatment_tags', 'unrepliable_reason', 'author_flair_richtext',\n",
       "       'author_flair_type', 'author_fullname', 'author_patreon_flair',\n",
       "       'author_premium'],\n",
       "      dtype='object')"
      ]
     },
     "execution_count": 11,
     "metadata": {
     },
     "output_type": "execute_result"
    }
   ],
   "source": [
    "posts_df.columns"
   ]
  },
  {
   "cell_type": "code",
   "execution_count": 29,
   "metadata": {
    "collapsed": false
   },
   "outputs": [
   ],
   "source": [
    "post_df_2 = posts_df[['body', 'body_sha1']]"
   ]
  },
  {
   "cell_type": "code",
   "execution_count": 0,
   "metadata": {
    "collapsed": false
   },
   "outputs": [
   ],
   "source": [
   ]
  },
  {
   "cell_type": "code",
   "execution_count": 0,
   "metadata": {
    "collapsed": false
   },
   "outputs": [
   ],
   "source": [
   ]
  },
  {
   "cell_type": "code",
   "execution_count": 30,
   "metadata": {
    "collapsed": false
   },
   "outputs": [
    {
     "data": {
      "text/html": [
       "<div>\n",
       "<style scoped>\n",
       "    .dataframe tbody tr th:only-of-type {\n",
       "        vertical-align: middle;\n",
       "    }\n",
       "\n",
       "    .dataframe tbody tr th {\n",
       "        vertical-align: top;\n",
       "    }\n",
       "\n",
       "    .dataframe thead th {\n",
       "        text-align: right;\n",
       "    }\n",
       "</style>\n",
       "<table border=\"1\" class=\"dataframe\">\n",
       "  <thead>\n",
       "    <tr style=\"text-align: right;\">\n",
       "      <th></th>\n",
       "      <th>body</th>\n",
       "      <th>body_sha1</th>\n",
       "    </tr>\n",
       "  </thead>\n",
       "  <tbody>\n",
       "    <tr>\n",
       "      <th>5</th>\n",
       "      <td>*delayed</td>\n",
       "      <td>ecadf520c810533d9dc843ef5dcaddb65716562a</td>\n",
       "    </tr>\n",
       "    <tr>\n",
       "      <th>6</th>\n",
       "      <td>So you're okay with the fact that buying an AR...</td>\n",
       "      <td>7dda3a6fface090672ba10b37a1e571f85ab1c5a</td>\n",
       "    </tr>\n",
       "    <tr>\n",
       "      <th>7</th>\n",
       "      <td>A buying car comparison would be more applicable.</td>\n",
       "      <td>befe26adc7c6cd4453f99c23cf18876c5ab07e3a</td>\n",
       "    </tr>\n",
       "    <tr>\n",
       "      <th>8</th>\n",
       "      <td>I'd pay to see both of those body cams.\\n\\nHer...</td>\n",
       "      <td>789aa5541f65b8c9635783d2adbd0a2b512afcca</td>\n",
       "    </tr>\n",
       "    <tr>\n",
       "      <th>9</th>\n",
       "      <td>SCOTUS already has their own police force.  Bu...</td>\n",
       "      <td>8bf9239f2363fa7aeb64efb54bf1c2c68338f789</td>\n",
       "    </tr>\n",
       "  </tbody>\n",
       "</table>\n",
       "</div>"
      ],
      "text/plain": [
       "                                                body  \\\n",
       "5                                           *delayed   \n",
       "6  So you're okay with the fact that buying an AR...   \n",
       "7  A buying car comparison would be more applicable.   \n",
       "8  I'd pay to see both of those body cams.\\n\\nHer...   \n",
       "9  SCOTUS already has their own police force.  Bu...   \n",
       "\n",
       "                                  body_sha1  \n",
       "5  ecadf520c810533d9dc843ef5dcaddb65716562a  \n",
       "6  7dda3a6fface090672ba10b37a1e571f85ab1c5a  \n",
       "7  befe26adc7c6cd4453f99c23cf18876c5ab07e3a  \n",
       "8  789aa5541f65b8c9635783d2adbd0a2b512afcca  \n",
       "9  8bf9239f2363fa7aeb64efb54bf1c2c68338f789  "
      ]
     },
     "execution_count": 30,
     "metadata": {
     },
     "output_type": "execute_result"
    }
   ],
   "source": [
    "post_df_2.tail()"
   ]
  },
  {
   "cell_type": "code",
   "execution_count": 20,
   "metadata": {
    "collapsed": false
   },
   "outputs": [
    {
     "data": {
      "text/plain": [
       "0    fe993932d6dced4c0a879e9aa5d7a6e0fbb467f5\n",
       "1    fe993932d6dced4c0a879e9aa5d7a6e0fbb467f5\n",
       "2    e730e3b441a80fbff05bce91ece9573caed38d41\n",
       "3    7bae97fa77116d514b82ccb5cc97c07fe9f9e650\n",
       "4    884fcf6caf2336d62e8705db493b9d271d16ed73\n",
       "5    ecadf520c810533d9dc843ef5dcaddb65716562a\n",
       "6    7dda3a6fface090672ba10b37a1e571f85ab1c5a\n",
       "7    befe26adc7c6cd4453f99c23cf18876c5ab07e3a\n",
       "8    789aa5541f65b8c9635783d2adbd0a2b512afcca\n",
       "9    8bf9239f2363fa7aeb64efb54bf1c2c68338f789\n",
       "Name: body_sha1, dtype: object"
      ]
     },
     "execution_count": 20,
     "metadata": {
     },
     "output_type": "execute_result"
    }
   ],
   "source": [
    "posts_df['body_sha1']"
   ]
  },
  {
   "cell_type": "code",
   "execution_count": 14,
   "metadata": {
    "collapsed": false
   },
   "outputs": [
    {
     "data": {
      "text/plain": [
       "0    0\n",
       "1    0\n",
       "2    0\n",
       "3    0\n",
       "4    0\n",
       "5    0\n",
       "6    0\n",
       "7    0\n",
       "8    0\n",
       "9    0\n",
       "Name: controversiality, dtype: int64"
      ]
     },
     "execution_count": 14,
     "metadata": {
     },
     "output_type": "execute_result"
    }
   ],
   "source": [
    "posts_df['controversiality']"
   ]
  },
  {
   "cell_type": "code",
   "execution_count": 15,
   "metadata": {
    "collapsed": false
   },
   "outputs": [
   ],
   "source": [
    "posts_df.to_csv('test.csv')"
   ]
  },
  {
   "cell_type": "code",
   "execution_count": 0,
   "metadata": {
    "collapsed": false
   },
   "outputs": [
   ],
   "source": [
   ]
  }
 ],
 "metadata": {
  "kernelspec": {
   "display_name": "Python (nlp_env)",
   "language": "python",
   "metadata": {
    "debugger": true
   },
   "name": "nlp_env",
   "resource_dir": "/projects/d33fe5ca-9047-433d-bb1f-d4d7dfb115ca/.local/share/jupyter/kernels/nlp_env"
  },
  "language_info": {
   "codemirror_mode": {
    "name": "ipython",
    "version": 3
   },
   "file_extension": ".py",
   "mimetype": "text/x-python",
   "name": "python",
   "nbconvert_exporter": "python",
   "pygments_lexer": "ipython3",
   "version": "3.8.13"
  }
 },
 "nbformat": 4,
 "nbformat_minor": 4
}