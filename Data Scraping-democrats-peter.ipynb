{
 "cells": [
  {
   "cell_type": "code",
   "execution_count": 9,
   "metadata": {
    "collapsed": false
   },
   "outputs": [
   ],
   "source": [
    "import datetime as dt \n",
    "#from psaw import PushshiftAPI\n",
    "from pmaw import PushshiftAPI\n",
    "#import praw\n",
    "import pandas as pd"
   ]
  },
  {
   "cell_type": "code",
   "execution_count": 10,
   "metadata": {
    "collapsed": false
   },
   "outputs": [
   ],
   "source": [
    "\n",
    "before = int(dt.datetime(2022,6,10,0,0).timestamp())\n",
    "after = int(dt.datetime(2022,6,9,0,0).timestamp())\n",
    "api = PushshiftAPI()\n",
    "subreddit=\"democrats\"\n",
    "limit=10\n",
    "posts = api.search_comments(subreddit=subreddit, limit=limit, before=before, after=after)\n",
    "posts_df = pd.DataFrame(posts)\n",
    "#posts_df=posts_df['title']\n",
    " "
   ]
  },
  {
   "cell_type": "code",
   "execution_count": 0,
   "metadata": {
    "collapsed": false
   },
   "outputs": [
   ],
   "source": [
   ]
  },
  {
   "cell_type": "code",
   "execution_count": 11,
   "metadata": {
    "collapsed": false
   },
   "outputs": [
    {
     "data": {
      "text/plain": [
       "Index(['all_awardings', 'archived', 'associated_award', 'author',\n",
       "       'author_flair_background_color', 'author_flair_css_class',\n",
       "       'author_flair_template_id', 'author_flair_text',\n",
       "       'author_flair_text_color', 'body', 'body_sha1', 'can_gild', 'collapsed',\n",
       "       'collapsed_because_crowd_control', 'collapsed_reason',\n",
       "       'collapsed_reason_code', 'comment_type', 'controversiality',\n",
       "       'created_utc', 'distinguished', 'gilded', 'gildings', 'id',\n",
       "       'is_submitter', 'link_id', 'locked', 'no_follow', 'parent_id',\n",
       "       'permalink', 'retrieved_utc', 'score', 'score_hidden', 'send_replies',\n",
       "       'stickied', 'subreddit', 'subreddit_id', 'subreddit_name_prefixed',\n",
       "       'subreddit_type', 'top_awarded_type', 'total_awards_received',\n",
       "       'treatment_tags', 'unrepliable_reason', 'author_flair_richtext',\n",
       "       'author_flair_type', 'author_fullname', 'author_patreon_flair',\n",
       "       'author_premium'],\n",
       "      dtype='object')"
      ]
     },
     "execution_count": 11,
     "metadata": {
     },
     "output_type": "execute_result"
    }
   ],
   "source": [
    "posts_df.columns"
   ]
  },
  {
   "cell_type": "code",
   "execution_count": 29,
   "metadata": {
    "collapsed": false
   },
   "outputs": [
   ],
   "source": [
    "post_df_2 = posts_df[['body', 'body_sha1']]"
   ]
  },
  {
   "cell_type": "code",
   "execution_count": 0,
   "metadata": {
    "collapsed": false
   },
   "outputs": [
   ],
   "source": [
   ]
  },
  {
   "cell_type": "code",
   "execution_count": 30,
   "metadata": {
    "collapsed": false
   },
   "outputs": [
    {
     "data": {
      "text/html": [
       "<div>\n",
       "<style scoped>\n",
       "    .dataframe tbody tr th:only-of-type {\n",
       "        vertical-align: middle;\n",
       "    }\n",
       "\n",
       "    .dataframe tbody tr th {\n",
       "        vertical-align: top;\n",
       "    }\n",
       "\n",
       "    .dataframe thead th {\n",
       "        text-align: right;\n",
       "    }\n",
       "</style>\n",
       "<table border=\"1\" class=\"dataframe\">\n",
       "  <thead>\n",
       "    <tr style=\"text-align: right;\">\n",
       "      <th></th>\n",
       "      <th>body</th>\n",
       "      <th>body_sha1</th>\n",
       "    </tr>\n",
       "  </thead>\n",
       "  <tbody>\n",
       "    <tr>\n",
       "      <th>5</th>\n",
       "      <td>*delayed</td>\n",
       "      <td>ecadf520c810533d9dc843ef5dcaddb65716562a</td>\n",
       "    </tr>\n",
       "    <tr>\n",
       "      <th>6</th>\n",
       "      <td>So you're okay with the fact that buying an AR...</td>\n",
       "      <td>7dda3a6fface090672ba10b37a1e571f85ab1c5a</td>\n",
       "    </tr>\n",
       "    <tr>\n",
       "      <th>7</th>\n",
       "      <td>A buying car comparison would be more applicable.</td>\n",
       "      <td>befe26adc7c6cd4453f99c23cf18876c5ab07e3a</td>\n",
       "    </tr>\n",
       "    <tr>\n",
       "      <th>8</th>\n",
       "      <td>I'd pay to see both of those body cams.\\n\\nHer...</td>\n",
       "      <td>789aa5541f65b8c9635783d2adbd0a2b512afcca</td>\n",
       "    </tr>\n",
       "    <tr>\n",
       "      <th>9</th>\n",
       "      <td>SCOTUS already has their own police force.  Bu...</td>\n",
       "      <td>8bf9239f2363fa7aeb64efb54bf1c2c68338f789</td>\n",
       "    </tr>\n",
       "  </tbody>\n",
       "</table>\n",
       "</div>"
      ],
      "text/plain": [
       "                                                body  \\\n",
       "5                                           *delayed   \n",
       "6  So you're okay with the fact that buying an AR...   \n",
       "7  A buying car comparison would be more applicable.   \n",
       "8  I'd pay to see both of those body cams.\\n\\nHer...   \n",
       "9  SCOTUS already has their own police force.  Bu...   \n",
       "\n",
       "                                  body_sha1  \n",
       "5  ecadf520c810533d9dc843ef5dcaddb65716562a  \n",
       "6  7dda3a6fface090672ba10b37a1e571f85ab1c5a  \n",
       "7  befe26adc7c6cd4453f99c23cf18876c5ab07e3a  \n",
       "8  789aa5541f65b8c9635783d2adbd0a2b512afcca  \n",
       "9  8bf9239f2363fa7aeb64efb54bf1c2c68338f789  "
      ]
     },
     "execution_count": 30,
     "metadata": {
     },
     "output_type": "execute_result"
    }
   ],
   "source": [
    "post_df_2.tail()"
   ]
  },
  {
   "cell_type": "code",
   "execution_count": 20,
   "metadata": {
    "collapsed": false
   },
   "outputs": [
    {
     "data": {
      "text/plain": [
       "0    fe993932d6dced4c0a879e9aa5d7a6e0fbb467f5\n",
       "1    fe993932d6dced4c0a879e9aa5d7a6e0fbb467f5\n",
       "2    e730e3b441a80fbff05bce91ece9573caed38d41\n",
       "3    7bae97fa77116d514b82ccb5cc97c07fe9f9e650\n",
       "4    884fcf6caf2336d62e8705db493b9d271d16ed73\n",
       "5    ecadf520c810533d9dc843ef5dcaddb65716562a\n",
       "6    7dda3a6fface090672ba10b37a1e571f85ab1c5a\n",
       "7    befe26adc7c6cd4453f99c23cf18876c5ab07e3a\n",
       "8    789aa5541f65b8c9635783d2adbd0a2b512afcca\n",
       "9    8bf9239f2363fa7aeb64efb54bf1c2c68338f789\n",
       "Name: body_sha1, dtype: object"
      ]
     },
     "execution_count": 20,
     "metadata": {
     },
     "output_type": "execute_result"
    }
   ],
   "source": [
    "posts_df['body_sha1']"
   ]
  },
  {
   "cell_type": "code",
   "execution_count": 14,
   "metadata": {
    "collapsed": false
   },
   "outputs": [
    {
     "data": {
      "text/plain": [
       "0    0\n",
       "1    0\n",
       "2    0\n",
       "3    0\n",
       "4    0\n",
       "5    0\n",
       "6    0\n",
       "7    0\n",
       "8    0\n",
       "9    0\n",
       "Name: controversiality, dtype: int64"
      ]
     },
     "execution_count": 14,
     "metadata": {
     },
     "output_type": "execute_result"
    }
   ],
   "source": [
    "posts_df['controversiality']"
   ]
  },
  {
   "cell_type": "code",
   "execution_count": 15,
   "metadata": {
    "collapsed": false
   },
   "outputs": [
   ],
   "source": [
    "posts_df.to_csv('test.csv')"
   ]
  },
  {
   "cell_type": "code",
   "execution_count": 0,
   "metadata": {
    "collapsed": false
   },
   "outputs": [
   ],
   "source": [
   ]
  }
 ],
 "metadata": {
  "kernelspec": {
   "display_name": "Python (nlp_env)",
   "language": "python",
   "metadata": {
    "debugger": true
   },
   "name": "nlp_env",
   "resource_dir": "/projects/d33fe5ca-9047-433d-bb1f-d4d7dfb115ca/.local/share/jupyter/kernels/nlp_env"
  },
  "language_info": {
   "codemirror_mode": {
    "name": "ipython",
    "version": 3
   },
   "file_extension": ".py",
   "mimetype": "text/x-python",
   "name": "python",
   "nbconvert_exporter": "python",
   "pygments_lexer": "ipython3",
   "version": "3.8.13"
  }
 },
 "nbformat": 4,
 "nbformat_minor": 4
}