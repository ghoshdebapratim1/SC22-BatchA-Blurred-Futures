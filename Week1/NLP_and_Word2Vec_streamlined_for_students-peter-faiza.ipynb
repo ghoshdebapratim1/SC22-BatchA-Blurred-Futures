{
 "cells": [
  {
   "cell_type": "markdown",
   "metadata": {
    "collapsed": false
   },
   "source": [
    "# Natural Language Processing using NLTK"
   ]
  },
  {
   "cell_type": "markdown",
   "metadata": {
    "collapsed": false
   },
   "source": [
   ]
  },
  {
   "cell_type": "code",
   "execution_count": 1,
   "metadata": {
    "collapsed": false
   },
   "outputs": [
    {
     "name": "stderr",
     "output_type": "stream",
     "text": [
      "[nltk_data] Downloading package wordnet to /projects/820ea3ac-497c-43f\n",
      "[nltk_data]     d-9cb7-abe34292faa8/nltk_data...\n",
      "[nltk_data]   Package wordnet is already up-to-date!\n",
      "[nltk_data] Downloading package punkt to /projects/820ea3ac-497c-43fd-\n",
      "[nltk_data]     9cb7-abe34292faa8/nltk_data...\n",
      "[nltk_data]   Package punkt is already up-to-date!\n"
     ]
    },
    {
     "data": {
      "text/plain": [
       "True"
      ]
     },
     "execution_count": 1,
     "metadata": {
     },
     "output_type": "execute_result"
    }
   ],
   "source": [
    "# Install NLTK - pip install nltk\n",
    "import nltk\n",
    "nltk.download('wordnet')\n",
    "nltk.download('punkt')"
   ]
  },
  {
   "cell_type": "markdown",
   "metadata": {
    "collapsed": false
   },
   "source": [
    "## NLP Part 0 - Get some Data!\n",
    "\n",
    "This section's code is mostly given to you as a review for how you can scrape and manipulate data from the web. "
   ]
  },
  {
   "cell_type": "code",
   "execution_count": 2,
   "metadata": {
    "collapsed": false
   },
   "outputs": [
   ],
   "source": [
    "import urllib\n",
    "import bs4 as bs\n",
    "import re"
   ]
  },
  {
   "cell_type": "code",
   "execution_count": 64,
   "metadata": {
    "collapsed": false
   },
   "outputs": [
   ],
   "source": [
    "# We will read the contents of the Wikipedia article \"Global_warming\" as an example, please feel free to use your own! You can use the url below:\n",
    "url = 'https://en.wikipedia.org/wiki/Global_warming' # you can change this to use other sites as well.\n",
    "\n",
    "# We can open the page using \"urllib.request.urlopen\" then read it using \".read()\"\n",
    "source = urllib.request.urlopen(url).read()\n",
    "\n",
    "# Beautiful Soup is a Python library for pulling data out of HTML and XML files.\n",
    "# you may need to install a parser library --> \"!pip3 install lxml\"\n",
    "# Parsing the data/creating BeautifulSoup object\n",
    "\n",
    "soup = bs.BeautifulSoup(source,\"html.parser\") \n",
    "\n",
    "# Fetching the data\n",
    "text = \"\"\n",
    "for paragraph in soup.find_all('p'): #The <p> tag defines a paragraph in the webpages\n",
    "    text += paragraph.text\n",
    "\n",
    "# Preprocessing the data\n",
    "\n",
    "text = re.sub(r'\\[[0-9]*\\]',' ',text) # [0-9]* --> Matches zero or more repetitions of any digit from 0 to 9\n",
    "text = text.lower() #everything to lowercase\n",
    "text = re.sub(r'\\W^.?!',' ',text) # \\W --> Matches any character which is not a word character except (.?!)\n",
    "text = re.sub(r'\\d',' ',text) # \\d --> Matches any decimal digit\n",
    "text = re.sub(r'\\s+',' ',text) # \\s --> Matches any characters that are considered whitespace (Ex: [\\t\\n\\r\\f\\v].)"
   ]
  },
  {
   "cell_type": "code",
   "execution_count": 4,
   "metadata": {
    "collapsed": false
   },
   "outputs": [
    {
     "data": {
      "text/plain": [
       "\" contemporary climate change includes both global warming and its impacts on earth's weather pattern\""
      ]
     },
     "execution_count": 4,
     "metadata": {
     },
     "output_type": "execute_result"
    }
   ],
   "source": [
    "text[:100]"
   ]
  },
  {
   "cell_type": "markdown",
   "metadata": {
    "collapsed": false
   },
   "source": [
    "## NLP Part 1 - Tokenization of paragraphs/sentences\n",
    "\n",
    "In this section we are going to tokenize our sentences and words. If you aren't familiar with tokenization, we recommend looking up \"what is tokenization\". \n",
    "\n",
    "You should also spend time on the [NLTK documentation](https://www.nltk.org/). If you're not sure how to do something, or get an error, it is best to google it first and ask questions as you go!"
   ]
  },
  {
   "cell_type": "code",
   "execution_count": 11,
   "metadata": {
    "collapsed": false
   },
   "outputs": [
   ],
   "source": [
    "'''\n",
    "Your code here: Tokenize the words from the data and set it to a variable called words.\n",
    "Hint: how to this might be on the very home page of NLTK!\n",
    "'''\n",
    "from nltk.tokenize import word_tokenize\n",
    "words = word_tokenize(text)"
   ]
  },
  {
   "cell_type": "code",
   "execution_count": 14,
   "metadata": {
    "collapsed": false
   },
   "outputs": [
    {
     "name": "stdout",
     "output_type": "stream",
     "text": [
      "['contemporary', 'climate', 'change', 'includes', 'both', 'global', 'warming', 'and', 'its', 'impacts']\n"
     ]
    }
   ],
   "source": [
    "print(words[:10])"
   ]
  },
  {
   "cell_type": "code",
   "execution_count": 65,
   "metadata": {
    "collapsed": false
   },
   "outputs": [
   ],
   "source": [
    "'''\n",
    "Your code here: Tokenize the sentences from the data  and set it to a variable called sentences.\n",
    "Hint: try googling how to tokenize sentences in NLTK!\n",
    "'''\n",
    "from nltk.tokenize import sent_tokenize\n",
    "sentences = sent_tokenize(text)"
   ]
  },
  {
   "cell_type": "code",
   "execution_count": 66,
   "metadata": {
    "collapsed": false
   },
   "outputs": [
    {
     "name": "stdout",
     "output_type": "stream",
     "text": [
      "[\" contemporary climate change includes both global warming and its impacts on earth's weather patterns.\", 'there have been previous periods of climate change, but the current changes are distinctly more rapid and not due to natural causes.', 'instead, they are caused by the emission of greenhouse gases, mostly carbon dioxide (co ) and methane.', 'burning fossil fuels for energy use creates most of these emissions.', 'certain agricultural practices, industrial processes, and forest loss are additional sources.', \"greenhouse gases are transparent to sunlight, allowing it through to heat the earth's surface.\", \"when the earth emits that heat as infrared radiation the gases absorb it, trapping the heat near the earth's surface.\", 'as the planet heats up it causes changes like the loss of sunlight-reflecting snow cover, amplifying global warming.', 'due to climate change, deserts are expanding, while heat waves and wildfires are becoming more common.', 'increased warming in the arctic has contributed to melting permafrost, glacial retreat and sea ice loss.']\n"
     ]
    }
   ],
   "source": [
    "print(sentences[:10])"
   ]
  },
  {
   "cell_type": "markdown",
   "metadata": {
    "collapsed": false
   },
   "source": [
    "## NLP Part 2 - Stopwords and Punctuation\n",
    "\n",
    "Now we are going to work to remove stopwords and punctuation from our data. Why do you think we are going to do this? Do some research if you don't know yet. \n",
    "\n"
   ]
  },
  {
   "cell_type": "code",
   "execution_count": 24,
   "metadata": {
    "collapsed": false
   },
   "outputs": [
    {
     "name": "stderr",
     "output_type": "stream",
     "text": [
      "[nltk_data] Downloading package stopwords to /projects/820ea3ac-497c-4\n",
      "[nltk_data]     3fd-9cb7-abe34292faa8/nltk_data...\n",
      "[nltk_data]   Package stopwords is already up-to-date!\n"
     ]
    },
    {
     "data": {
      "text/plain": [
       "True"
      ]
     },
     "execution_count": 24,
     "metadata": {
     },
     "output_type": "execute_result"
    }
   ],
   "source": [
    "from nltk.corpus import stopwords\n",
    "nltk.download('stopwords')\n"
   ]
  },
  {
   "cell_type": "code",
   "execution_count": 46,
   "metadata": {
    "collapsed": false
   },
   "outputs": [
   ],
   "source": [
   ]
  },
  {
   "cell_type": "code",
   "execution_count": 75,
   "metadata": {
    "collapsed": false,
    "scrolled": true
   },
   "outputs": [
    {
     "data": {
      "text/plain": [
       "['there',\n",
       " 'have',\n",
       " 'been',\n",
       " 'previous',\n",
       " 'periods',\n",
       " 'of',\n",
       " 'climate',\n",
       " 'change',\n",
       " ',',\n",
       " 'but',\n",
       " 'the',\n",
       " 'current',\n",
       " 'changes',\n",
       " 'are',\n",
       " 'distinctly',\n",
       " 'more',\n",
       " 'rapid',\n",
       " 'and',\n",
       " 'not',\n",
       " 'due',\n",
       " 'to',\n",
       " 'natural',\n",
       " 'causes',\n",
       " '.']"
      ]
     },
     "execution_count": 75,
     "metadata": {
     },
     "output_type": "execute_result"
    }
   ],
   "source": [
    "nltk.word_tokenize(sentences[1])"
   ]
  },
  {
   "cell_type": "code",
   "execution_count": 0,
   "metadata": {
    "collapsed": false
   },
   "outputs": [
   ],
   "source": [
   ]
  },
  {
   "cell_type": "code",
   "execution_count": 83,
   "metadata": {
    "collapsed": false,
    "scrolled": true
   },
   "outputs": [
    {
     "name": "stdout",
     "output_type": "stream",
     "text": [
      "[\"contemporary climate change includes global warming impacts earth 's weather patterns .\", 'previous periods climate change , current changes distinctly rapid due natural causes .', 'instead , caused emission greenhouse gases , mostly carbon dioxide ( co ) methane .', 'burning fossil fuels energy use creates emissions .', 'certain agricultural practices , industrial processes , forest loss additional sources .']\n"
     ]
    },
    {
     "name": "stderr",
     "output_type": "stream",
     "text": [
      "[nltk_data] Downloading package stopwords to /projects/820ea3ac-497c-4\n",
      "[nltk_data]     3fd-9cb7-abe34292faa8/nltk_data...\n",
      "[nltk_data]   Package stopwords is already up-to-date!\n"
     ]
    }
   ],
   "source": [
    "from nltk.tokenize import word_tokenize\n",
    "\n",
    "nltk.download('stopwords')\n",
    "from nltk.corpus import stopwords\n",
    "'''\n",
    "define a function called \"remove_stopwords\" that takes in a list of the sentences of the text and returns one that doesn't have any stopwords.\n",
    "'''\n",
    "stop=stopwords.words('english')\n",
    "\n",
    "def remove_stopwords(sentences):\n",
    "    new_sentences=[]\n",
    "    \n",
    "    for sent in sentences: \n",
    "        words=nltk.word_tokenize(sent)\n",
    "        new_words=[word for word in words if not word in stop]\n",
    "        new_sent=' '.join(new_words)\n",
    "        new_sentences.append(new_sent)\n",
    "    \n",
    "\n",
    "    return(new_sentences)\n",
    "x = remove_stopwords(sentences)\n",
    "print(x[:5])\n",
    "           \n",
    "\n"
   ]
  },
  {
   "cell_type": "code",
   "execution_count": 78,
   "metadata": {
    "collapsed": false
   },
   "outputs": [
    {
     "name": "stdout",
     "output_type": "stream",
     "text": [
      "[\"contemporary climate change includes global warming impacts earth 's weather patterns .\", 'previous periods climate change , current changes distinctly rapid due natural causes .', 'instead , caused emission greenhouse gases , mostly carbon dioxide ( co ) methane .', 'burning fossil fuels energy use creates emissions .', 'certain agricultural practices , industrial processes , forest loss additional sources .', \"greenhouse gases transparent sunlight , allowing heat earth 's surface .\", \"earth emits heat infrared radiation gases absorb , trapping heat near earth 's surface .\", 'planet heats causes changes like loss sunlight-reflecting snow cover , amplifying global warming .', 'due climate change , deserts expanding , heat waves wildfires becoming common .', 'increased warming arctic contributed melting permafrost , glacial retreat sea ice loss .']\n"
     ]
    }
   ],
   "source": [
    "###Then actually apply your function###\n",
    "y = remove_stopwords(sentences)\n",
    "print(y[:10]) #Check if it worked correctly. Are all stopwords removed?"
   ]
  },
  {
   "cell_type": "code",
   "execution_count": 0,
   "metadata": {
    "collapsed": false
   },
   "outputs": [
   ],
   "source": [
    "new_sentences=[]\n",
    "\n",
    "for sent in sentences: \n",
    "    \n",
    "    words=nltk.word_tokenize(sent)\n",
    "    new_words= [word for word in words if word.isalnum()]\n",
    "    new_sent=' '.join(new_words)\n",
    "    new_sentences.append(new_sent)"
   ]
  },
  {
   "cell_type": "code",
   "execution_count": 84,
   "metadata": {
    "collapsed": false
   },
   "outputs": [
    {
     "name": "stdout",
     "output_type": "stream",
     "text": [
      "['contemporary climate change includes global warming impacts earth weather patterns', 'previous periods climate change current changes distinctly rapid due natural causes', 'instead caused emission greenhouse gases mostly carbon dioxide co methane', 'burning fossil fuels energy use creates emissions', 'certain agricultural practices industrial processes forest loss additional sources']\n"
     ]
    },
    {
     "name": "stderr",
     "output_type": "stream",
     "text": [
      "[nltk_data] Downloading package punkt to /projects/820ea3ac-497c-43fd-\n",
      "[nltk_data]     9cb7-abe34292faa8/nltk_data...\n",
      "[nltk_data]   Package punkt is already up-to-date!\n"
     ]
    }
   ],
   "source": [
    "'''\n",
    "define a function called \"remove_punctuation\" that removes punctuation from the sentences.\n",
    "'''\n",
    "\n",
    "nltk.download(\"punkt\")\n",
    "\n",
    "def remove_punctuation(sentences):\n",
    "    new_sentences=[]\n",
    "\n",
    "    for sent in sentences: \n",
    "    \n",
    "        words=nltk.word_tokenize(sent)\n",
    "        new_words= [word for word in words if word.isalnum()]\n",
    "        new_sent=' '.join(new_words)\n",
    "        new_sentences.append(new_sent)\n",
    "    \n",
    "    return new_sentences\n",
    "\n",
    "y = remove_punctuation(x)\n",
    "print(y[:5])\n",
    "\n"
   ]
  },
  {
   "cell_type": "code",
   "execution_count": 67,
   "metadata": {
    "collapsed": false
   },
   "outputs": [
   ],
   "source": [
    "sent2 = remove_punctuation(sentences)\n",
    "#print(sentences[:10]) #eliminating all punctuation.\n"
   ]
  },
  {
   "cell_type": "code",
   "execution_count": 69,
   "metadata": {
    "collapsed": false
   },
   "outputs": [
    {
     "name": "stdout",
     "output_type": "stream",
     "text": [
      "['contemporary climate change includes both global warming and its impacts on earth weather patterns', 'there have been previous periods of climate change but the current changes are distinctly more rapid and not due to natural causes', 'instead they are caused by the emission of greenhouse gases mostly carbon dioxide co and methane', 'burning fossil fuels for energy use creates most of these emissions', 'certain agricultural practices industrial processes and forest loss are additional sources', 'greenhouse gases are transparent to sunlight allowing it through to heat the earth surface', 'when the earth emits that heat as infrared radiation the gases absorb it trapping the heat near the earth surface', 'as the planet heats up it causes changes like the loss of snow cover amplifying global warming', 'due to climate change deserts are expanding while heat waves and wildfires are becoming more common', 'increased warming in the arctic has contributed to melting permafrost glacial retreat and sea ice loss']\n"
     ]
    }
   ],
   "source": [
    "print(sent2[:10])"
   ]
  },
  {
   "cell_type": "markdown",
   "metadata": {
    "collapsed": false
   },
   "source": [
    "## NLP Part 3a - Stemming the words\n",
    "\n",
    "Stemming is the process of reducing inflected (or sometimes derived) words to their word stem, base or root form. There is an example below!\n",
    "\n"
   ]
  },
  {
   "cell_type": "code",
   "execution_count": 50,
   "metadata": {
    "collapsed": false
   },
   "outputs": [
    {
     "data": {
      "text/plain": [
       "'troubl'"
      ]
     },
     "execution_count": 50,
     "metadata": {
     },
     "output_type": "execute_result"
    }
   ],
   "source": [
    "from nltk.stem import PorterStemmer\n",
    "\n",
    "#stemmer = PorterStemmer()\n",
    "# try each of the words below\n",
    "#stemmer.stem('troubled')\n",
    "#stemmer.stem('trouble')\n",
    "#stemmer.stem('troubling')\n",
    "#stemmer.stem('troubles')"
   ]
  },
  {
   "cell_type": "code",
   "execution_count": 100,
   "metadata": {
    "collapsed": false
   },
   "outputs": [
    {
     "data": {
      "text/plain": [
       "'histori'"
      ]
     },
     "execution_count": 100,
     "metadata": {
     },
     "output_type": "execute_result"
    }
   ],
   "source": [
    "stemmer = PorterStemmer()\n",
    "stemmer.stem('history')"
   ]
  },
  {
   "cell_type": "code",
   "execution_count": 105,
   "metadata": {
    "collapsed": false
   },
   "outputs": [
    {
     "ename": "TypeError",
     "evalue": "sequence item 0: expected str instance, list found",
     "output_type": "error",
     "traceback": [
      "\u001b[0;31m---------------------------------------------------------------------------\u001b[0m",
      "\u001b[0;31mTypeError\u001b[0m                                 Traceback (most recent call last)",
      "Input \u001b[0;32mIn [105]\u001b[0m, in \u001b[0;36m<cell line: 27>\u001b[0;34m()\u001b[0m\n\u001b[1;32m     22\u001b[0m         stem_sentences\u001b[38;5;241m.\u001b[39mappend(stemmed_sent2)\n\u001b[1;32m     25\u001b[0m     \u001b[38;5;28;01mreturn\u001b[39;00m stemmed_sentences\n\u001b[0;32m---> 27\u001b[0m \u001b[43mstem_sentences\u001b[49m\u001b[43m(\u001b[49m\u001b[43msentences\u001b[49m\u001b[43m)\u001b[49m\n",
      "Input \u001b[0;32mIn [105]\u001b[0m, in \u001b[0;36mstem_sentences\u001b[0;34m(y)\u001b[0m\n\u001b[1;32m     19\u001b[0m     stemmed_sent\u001b[38;5;241m.\u001b[39mappend(new_words)\n\u001b[1;32m     20\u001b[0m     \u001b[38;5;28mstr\u001b[39m(stemmed_sent)\n\u001b[0;32m---> 21\u001b[0m     stemmed_sent2 \u001b[38;5;241m=\u001b[39m \u001b[38;5;124;43m'\u001b[39;49m\u001b[38;5;124;43m \u001b[39;49m\u001b[38;5;124;43m'\u001b[39;49m\u001b[38;5;241;43m.\u001b[39;49m\u001b[43mjoin\u001b[49m\u001b[43m(\u001b[49m\u001b[43mstemmed_sent\u001b[49m\u001b[43m)\u001b[49m\n\u001b[1;32m     22\u001b[0m     stem_sentences\u001b[38;5;241m.\u001b[39mappend(stemmed_sent2)\n\u001b[1;32m     25\u001b[0m \u001b[38;5;28;01mreturn\u001b[39;00m stemmed_sentences\n",
      "\u001b[0;31mTypeError\u001b[0m: sequence item 0: expected str instance, list found"
     ]
    }
   ],
   "source": [
    "'''\n",
    "Your code here:\n",
    "Define a function called \"stem_sentences\" that takes in a list of sentences and returns a list of stemmed sentences.\n",
    "'''\n",
    "from nltk.tokenize import word_tokenize\n",
    "\n",
    "\n",
    "from nltk.stem import PorterStemmer\n",
    "\n",
    "\n",
    "def stem_sentences(y):\n",
    "\n",
    "    stemmed_sent = []\n",
    "\n",
    "    for sent in sentences:\n",
    "\n",
    "        words=nltk.word_tokenize(sent)\n",
    "        new_words= [stemmer.stem(x) for x in words]\n",
    "        stemmed_sent.append(new_words)\n",
    "        str(stemmed_sent)\n",
    "        stemmed_sent2 = ' '.join(stemmed_sent)\n",
    "        stem_sentences.append(stemmed_sent2)\n",
    "\n",
    "\n",
    "    return stemmed_sentences\n",
    "\n",
    "stem_sentences(sentences)\n"
   ]
  },
  {
   "cell_type": "code",
   "execution_count": 108,
   "metadata": {
    "collapsed": false
   },
   "outputs": [
    {
     "data": {
      "text/plain": [
       "'°c special report : climat chang and land special report : the ocean and cryospher in a chang climat sixth assess report'"
      ]
     },
     "execution_count": 108,
     "metadata": {
     },
     "output_type": "execute_result"
    }
   ],
   "source": [
    "        \n",
    "def stem_sentences(x):\n",
    "    for sent in sentences:\n",
    "        new_sentences = []\n",
    "        words=nltk.word_tokenize(sent)\n",
    "        stem_sent = [stemmer.stem(x) for x in words]\n",
    "        a =' '.join(stem_sent)\n",
    "        new_sentences.append(a)\n",
    "    return a\n",
    "\n",
    "stem_sentences(y)"
   ]
  },
  {
   "cell_type": "code",
   "execution_count": 92,
   "metadata": {
    "collapsed": false
   },
   "outputs": [
   ],
   "source": [
    "\n",
    "#print(stem_sentences[:10])"
   ]
  },
  {
   "cell_type": "markdown",
   "metadata": {
    "collapsed": false
   },
   "source": [
    "## NLP Part 3b - Lemmatization\n",
    "Lemmatization considers the context and converts the word to its meaningful base form. There is a cool tutorial and definition of lemmatization in NLTK [here](https://www.geeksforgeeks.org/python-lemmatization-with-nltk/)."
   ]
  },
  {
   "cell_type": "code",
   "execution_count": 110,
   "metadata": {
    "collapsed": false
   },
   "outputs": [
    {
     "name": "stdout",
     "output_type": "stream",
     "text": [
      "[['contemporary climate change includes global warming impacts earth weather patterns', 'previous periods climate change current changes distinctly rapid due natural causes', 'instead caused emission greenhouse gases mostly carbon dioxide co methane', 'burning fossil fuels energy use creates emissions', 'certain agricultural practices industrial processes forest loss additional sources', 'greenhouse gases transparent sunlight allowing heat earth surface', 'earth emits heat infrared radiation gases absorb trapping heat near earth surface', 'planet heats causes changes like loss snow cover amplifying global warming', 'due climate change deserts expanding heat waves wildfires becoming common', 'increased warming arctic contributed melting permafrost glacial retreat sea ice loss', 'higher temperatures also causing intense storms droughts weather extremes', 'rapid environmental change mountains coral reefs arctic forcing many species relocate become extinct', 'climate change threatens people food water scarcity increased flooding extreme heat disease economic loss', 'human migration conflict result', 'world health organization calls climate change greatest threat global health st century', 'even efforts minimise future warming successful effects continue centuries', 'include sea level rise warmer acidic oceans', 'many impacts already felt current', '', 'level warming', 'additional warming increase impacts may trigger tipping points melting greenland ice sheet', 'paris agreement nations collectively agreed keep warming well', 'however pledges made agreement global warming would still reach', '', 'end century', 'limiting warming', 'require halving emissions achieving emissions', 'making deep cuts emissions require switching away burning fossil fuels towards using electricity generated sources', 'includes phasing power plants vastly increasing use wind solar types renewable energy taking measures reduce energy use', 'electricity need replace fossil fuels powering transportation heating buildings operating industrial facilities', 'carbon also removed atmosphere instance increasing forest cover farming methods capture carbon soil', 'communities may adapt climate change efforts like better coastline protection avert risk severe widespread permanent impacts', 'unclear whether warming increased greenhouse gases would dominate cooling', 'scientists often used term inadvertent climate modification refer human impact climate', 'terms global warming climate change popularised', 'former refers increased surface warming latter describes full effect greenhouse gases climate', 'global warming became popular term nasa climate scientist james hansen used testimony senate', 'term climate change increased popularity', 'global warming usually refers warming earth system whereas climate change refer natural anthropogenic change', 'two terms often used interchangeably', 'various scientists politicians media figures adopted terms climate crisis climate emergency talk climate change global heating instead global warming', 'policy guardian said included language editorial guidelines ensure scientifically precise also communicating clearly readers important issue', 'oxford languages chose climate emergency word year defining situation urgent action required reduce halt climate change avoid potentially irreversible environmental damage resulting', 'multiple independent instrumental datasets show climate system warming', 'decade warmed average', '', '', 'compared baseline', 'surface temperatures rising', 'per decade reaching temperature', 'era', 'since number cold days nights decreased number warm days nights increased', 'little net warming th century th century', 'climate information period comes climate proxies trees ice cores', 'thermometer records began provide global coverage around', 'historical patterns warming cooling like medieval climate anomaly little ice age occur time across different regions', 'temperatures may reached high th century limited set regions', 'prehistorical episodes global warming thermal maximum', 'however modern observed rise temperature co concentrations rapid even abrupt geophysical events earth history approach current rates', 'evidence warming air temperature measurements reinforced wide range observations', 'increase frequency intensity heavy precipitation melting snow land ice increased atmospheric humidity', 'flora fauna also behaving manner consistent warming instance plants flowering earlier spring', 'another key indicator cooling upper atmosphere demonstrates greenhouse gases trapping heat near earth surface preventing radiating space', 'regions world warm differing rates', 'pattern independent greenhouse gases emitted gases persist long enough diffuse across planet', 'since period average surface temperature land regions increased almost twice fast surface temperature', 'larger heat capacity oceans oceans lose heat evaporation', 'thermal energy global climate system grown brief pauses since least extra energy stored ocean', 'rest heated atmosphere melted ice warmed continents', 'northern hemisphere north pole warmed much faster south pole southern hemisphere', 'northern hemisphere much land also seasonal snow cover sea ice', 'surfaces flip reflecting lot light dark ice melted start absorbing heat', 'local black carbon deposits snow ice also contribute arctic warming', 'arctic temperatures increasing twice rate rest world', 'melting glaciers ice sheets arctic disrupts ocean circulation including weakened gulf stream changing climate', 'climate system experiences various cycles last years el oscillation decades even centuries', 'changes caused imbalance energy external climate system always external earth', 'examples external forcings include changes concentrations greenhouse gases solar luminosity volcanic eruptions variations earth orbit around sun', 'determine human contribution climate change known internal climate variability natural external forcings need ruled', 'key approach determine unique fingerprints potential causes compare fingerprints observed patterns climate change', 'example solar forcing ruled major cause', 'fingerprint would warming entire atmosphere', 'yet lower atmosphere warmed consistent greenhouse gas forcing', 'attribution recent climate change shows main driver elevated greenhouse gases aerosols dampening effect', 'earth absorbs sunlight radiates heat', 'greenhouse gases atmosphere absorb reemit infrared radiation slowing rate pass atmosphere escape space', 'industrial revolution amounts greenhouse gases caused air near surface warmer would absence', 'water vapour clouds biggest contributors greenhouse effect increase function temperature therefore feedbacks', 'hand concentrations gases co tropospheric ozone cfcs nitrous oxide therefore external forcings', 'human activity since industrial revolution mainly extracting burning fossil fuels coal oil natural gas increased amount greenhouse gases atmosphere resulting radiative imbalance', 'concentrations co methane increased respectively since', 'co levels higher time last million years', 'concentrations methane far higher last years', 'global anthropogenic greenhouse gas emissions equivalent billion tonnes co emissions co methane nitrous oxide fluorinated gases', 'co emissions primarily come burning fossil fuels provide energy transport manufacturing heating electricity', 'additional co emissions come deforestation industrial processes include co released chemical reactions making cement steel aluminum fertiliser', 'methane emissions come livestock manure rice cultivation landfills wastewater coal mining well oil gas extraction', 'nitrous oxide emissions largely come microbial decomposition fertiliser', 'despite contribution deforestation greenhouse gas emissions earth land surface particularly forests remain significant carbon sink co natural processes carbon fixation soil photosynthesis offset greenhouse gas contributions deforestation', 'sink estimated remove annual global co emissions', 'ocean also serves significant carbon sink via process', 'first co dissolves surface water', 'afterwards ocean overturning circulation distributes deep ocean interior accumulates time part carbon cycle', 'last two decades world oceans absorbed emitted co air pollution form aerosols puts large burden human health also affects climate large scale', 'gradual reduction amount sunlight reaching earth surface observed phenomenon popularly known global dimming typically attributed aerosols biofuel fossil fuel burning', 'globally aerosols declining since meaning longer mask greenhouse gas warming much', 'aerosols scatter absorb solar radiation', 'also indirect effects earth radiation budget', 'sulfate aerosols act cloud condensation nuclei lead clouds smaller cloud droplets', 'clouds reflect solar radiation efficiently clouds fewer larger droplets', 'also reduce growth raindrops makes clouds reflective incoming sunlight', 'indirect effects aerosols largest uncertainty radiative forcing', 'aerosols typically limit global warming reflecting sunlight black carbon soot falls snow ice contribute global warming', 'increase absorption sunlight also increases melting rise', 'limiting new black carbon deposits arctic could reduce global warming', '', 'humans change earth surface mainly create agricultural land', 'today agriculture takes earth land area forests uninhabitable glaciers deserts etc', 'amount forested land continues decrease main land use change causes global warming', 'deforestation releases co contained trees destroyed plus prevents trees absorbing co future', 'main causes deforestation permanent change forest agricultural land producing products beef palm oil logging produce products short term shifting cultivation wildfires', 'land use changes affect greenhouse gas emissions', 'type vegetation region affects local temperature', 'impacts much sunlight gets reflected back space albedo much heat lost evaporation', 'instance change dark forest grassland makes surface lighter causing reflect sunlight', 'deforestation also affect temperatures modifying release chemical compounds influence clouds changing wind patterns', 'tropic temperate areas net effect produce significant warming latitudes closer poles gain albedo forest replaced snow cover leads cooling effect', 'globally effects estimated led slight cooling dominated increase surface albedo', 'physical climate models unable reproduce rapid warming observed recent decades taking account variations solar output volcanic activity', 'sun earth primary energy source changes incoming sunlight directly affect climate system', 'solar irradiance measured directly satellites indirect measurements available early onwards', 'upward trend amount sun energy reaching earth', 'evidence greenhouse gases causing global warming comes measurements show warming lower atmosphere troposphere coupled cooling upper atmosphere stratosphere', 'solar variations responsible observed warming troposphere stratosphere would warm', 'explosive volcanic eruptions represent largest natural forcing industrial era', 'eruption sufficiently strong sulfur dioxide reaching stratosphere sunlight partially blocked couple years', 'temperature signal lasts twice long', 'industrial era volcanic activity negligible impacts global temperature trends', 'volcanic co emissions equivalent less current anthropogenic co emissions', 'response climate system initial forcing modified feedbacks increased feedbacks reduced balancing feedbacks', 'main reinforcing feedbacks feedback feedback net effect clouds', 'primary balancing mechanism radiative cooling earth surface gives heat space response rising temperature', 'addition temperature feedbacks feedbacks carbon cycle fertilizing effect co plant growth', 'uncertainty feedbacks major reason different climate models project different magnitudes warming given amount emissions', 'air warmed greenhouse gases hold moisture', 'water vapour potent greenhouse gas heats atmosphere', 'cloud cover increases sunlight reflected back space cooling planet', 'clouds become higher thinner act insulator reflecting heat back downwards warming planet', 'effect clouds largest source feedback uncertainty', 'another major feedback reduction snow cover sea ice arctic reduces reflectivity earth surface', 'sun energy absorbed regions contributing amplification arctic temperature changes', 'arctic amplification also melting permafrost releases methane co atmosphere', 'climate change also cause methane releases wetlands marine systems freshwater systems', 'overall climate feedbacks expected become increasingly positive', 'around half co emissions absorbed land plants oceans', 'land elevated co extended growing season stimulated plant growth', 'climate change increases droughts heat waves inhibit plant growth makes uncertain whether carbon sink continue grow future', 'soils contain large quantities carbon may release heat', 'co heat absorbed ocean acidifies circulation changes phytoplankton takes less carbon decreasing rate ocean absorbs atmospheric carbon', 'overall higher co concentrations earth absorb reduced fraction emissions', 'climate model representation physical chemical biological processes affect climate system', 'models used calculate degree warming future emissions cause accounting strength climate feedbacks', 'models also include natural processes like changes earth orbit historical changes sun activity volcanic forcing', 'addition estimating future temperatures reproduce predict circulation oceans annual cycle seasons flows carbon land surface atmosphere', 'physical realism models tested examining ability simulate contemporary past climates', 'past models underestimated rate arctic shrinkage underestimated rate precipitation increase', 'sea level rise since underestimated older models recent models agree well observations', 'united national climate assessment notes climate models may still underestimating missing relevant feedback processes', 'subset climate models add societal factors simple physical climate model', 'models simulate population economic growth energy use affect interact physical climate', 'information models produce scenarios future greenhouse gas emissions', 'used input physical climate models carbon cycle models predict atmospheric concentrations greenhouse gases might change future', 'depending socioeconomic scenario mitigation scenario models produce atmospheric co concentrations range widely ppm', 'ipcc sixth assessment report projects global warming likely reach', '', 'late st century low ghg emissions scenario', 'intermediate scenario global warming would reach', '', '', '', 'high ghg emissions scenario', 'projections based climate models combination observations', 'remaining carbon budget determined modelling carbon cycle climate sensitivity greenhouse gases', 'according ipcc global warming kept', 'chance emissions exceed gigatonnes co corresponds years current emissions', 'high uncertainties budget', 'instance may gigatonnes co smaller due methane release permafrost wetlands', 'however clear fossil fuel resources abundant shortages relied limit carbon emissions st century', 'environmental effects climate change broad affecting oceans ice weather', 'changes may occur gradually rapidly', 'evidence effects comes studying climate change past modelling modern observations', 'since droughts heat waves appeared simultaneously increasing frequency', 'extremely wet dry events within monsoon period increased india east asia', 'rainfall rate intensity hurricanes typhoons likely increasing', 'frequency tropical cyclones increased result climate change', 'however study review article published nature geoscience concluded geographic range tropical cyclones probably expand poleward response climate warming hadley circulation', 'global sea level rising consequence glacial melt melt ice sheets greenland antarctica thermal expansion', 'rise increased time averaging', '', 'mm per year', 'st century ipcc projects high emissions scenario sea level could rise cm', 'increased ocean warmth undermining threatening unplug antarctic glacier outlets risking large melt ice sheet possibility sea level rise high emissions', 'climate change led decades shrinking thinning arctic sea ice', 'summers expected rare', 'degrees warming set occur every three ten years warming level', 'higher atmospheric co concentrations led changes ocean chemistry', 'increase dissolved co causing oceans acidify', 'addition oxygen levels decreasing oxygen less soluble warmer water', 'dead zones ocean regions little oxygen expanding', 'greater degrees global warming increase risk passing tipping points beyond certain impacts longer avoided even temperatures reduced', 'example collapse west antarctic greenland ice sheets temperature rise', 'may commit ice sheets melt although time scale melt uncertain depends future warming', 'changes could occur short time period shutdown certain ocean currents like atlantic meridional overturning circulation', 'tipping points also include irreversible damage ecosystems like amazon rainforest coral reefs', 'effects climate change include ice melt ocean warming sea level rise ocean acidification', 'timescale centuries millennia magnitude climate change determined primarily anthropogenic co emissions', 'due co long atmospheric lifetime', 'oceanic co uptake slow enough ocean acidification continue hundreds thousands years', 'emissions estimated prolonged current interglacial period least years', 'sea level rise continue many centuries estimated rise', 'metres per degree celsius', 'year', 'recent warming driven many terrestrial freshwater species poleward towards higher altitudes', 'higher atmospheric co levels extended growing season resulted global greening', 'however heatwaves drought reduced ecosystem productivity regions', 'future balance opposing effects unclear', 'climate change contributed expansion drier climate zones expansion deserts subtropics', 'size speed global warming making abrupt changes ecosystems likely', 'overall expected climate change result extinction many species', 'oceans heated slowly land plants animals ocean migrated towards colder poles faster species land', 'land heat waves ocean occur frequently due climate change harming wide range organisms corals kelp seabirds', 'ocean acidification makes harder organisms mussels barnacles corals produce shells skeletons heatwaves bleached coral reefs', 'harmful algal blooms enhanced climate change eutrophication lower oxygen levels disrupt food webs cause great loss marine life', 'coastal ecosystems particular stress', 'almost half global wetlands disappeared due climate change human impacts', 'dry riverbed california experiencing worst megadrought years', 'ecological collapse', 'bleaching damaged great barrier reef threatens reefs worldwide', 'extreme weather', 'drought high temperatures worsened bushfires australia', 'arctic warming', 'permafrost thaws undermine infrastructure release methane greenhouse gas', 'habitat destruction', 'many arctic animals rely sea ice disappearing warming arctic', 'pest propagation', 'mild winters allow pine beetles survive kill large swaths forest', 'effects climate change humans observed worldwide', 'mostly due warming shifts precipitation', 'impacts observed continents ocean regions less developed areas facing greatest risk', 'continued warming potentially severe pervasive irreversible impacts people ecosystems', 'risks unevenly distributed generally greater disadvantaged people developing developed countries', 'classified climate change greatest threat global health st century', 'extreme weather leads injury loss life crop failures undernutrition', 'various infectious diseases easily transmitted warmer climate dengue fever malaria', 'young children vulnerable food shortages', 'children older people vulnerable extreme heat', 'world health organization estimated climate change would cause around additional deaths per year', 'assessed deaths heat exposure elderly people increases diarrhea malaria dengue coastal flooding childhood undernutrition', 'adult deaths projected yearly due reductions food availability quality', 'climate change affecting food security', 'caused reduction global yields maize wheat soybeans', 'future warming could reduce global yields major crops', 'crop production probably negatively affected countries effects northern latitudes may positive negative', 'additional million people worldwide particularly lower incomes risk hunger consequence impacts', 'climate change also impacts fish populations', 'globally less available fished', 'regions dependent glacier water regions already dry small islands higher risk water stress due climate change', 'economic damages due climate change may severe chance disastrous consequences', 'climate change likely already increased global economic inequality trend projected continue', 'severe impacts expected africa local inhabitants dependent upon natural agricultural resources asia', 'world bank estimates climate change could drive million people poverty', 'current inequalities based wealth social status worsened due climate change', 'major difficulties mitigating adapting recovering climate shocks faced marginalized people less control resources', 'indigenous people subsistent land ecosystems face endangerment wellness lifestyles due climate change', 'expert elicitation concluded role climate change armed conflict small compared factors inequality state capabilities', 'islands coastal communities threatened sea level rise makes flooding common', 'sometimes land permanently lost sea', 'could lead statelessness people island nations maldives tuvalu', 'regions rise temperature humidity may severe humans adapt', 'climate change models project almost humanity might live extremely hot uninhabitable climates similar current climate found sahara', 'factors drive environmental migration within countries', 'people expected displaced sea level rise extreme weather conflict increased competition natural resources', 'climate change may also increase vulnerability leading trapped populations able move due lack resources', 'environmental migration', 'sparser rainfall leads desertification harms agriculture displace populations', 'shown telly mali', 'agricultural changes', 'droughts rising temperatures extreme weather negatively impact agriculture', 'shown texas us', 'tidal flooding', 'rise increases flooding coastal regions', 'shown venice italy', 'storm intensification', 'bangladesh cyclone sidr example catastrophic flooding increased rainfall', 'heat wave intensification', 'events like june european heat wave becoming common', 'climate change mitigated reducing greenhouse gas emissions enhancing sinks absorb greenhouse gases atmosphere', 'order limit global warming less', 'high likelihood success global greenhouse gas emissions needs target', 'requires systemic changes unprecedented scale energy land cities transport buildings industry', 'united nations environment programme estimates countries need triple pledges paris agreement within next decade limit global warming', 'even greater level reduction required meet', 'goal', 'pledges made agreement october global warming would still chance reaching', 'range', '', 'end century', 'although single pathway limit global warming', 'scenarios strategies see major increase use renewable energy combination increased energy efficiency measures generate needed greenhouse gas reductions', 'reduce pressures ecosystems enhance carbon sequestration capabilities changes would also necessary agriculture forestry preventing deforestation restoring natural ecosystems reforestation', 'approaches mitigating climate change higher level risk', 'scenarios limit global warming', 'typically project use carbon dioxide removal methods st century', 'concerns though technologies environmental impacts', 'solar radiation management srm also possible supplement deep reductions emissions', 'however srm would raise significant ethical legal issues risks poorly understood', 'renewable energy key limiting climate change', 'fossil fuels accounted world energy', 'remaining share split nuclear power renewables including hydropower bioenergy wind solar power geothermal energy', 'mix projected change significantly next years', 'solar panels onshore wind among cheapest forms adding new power generation capacity many locations', 'renewables represented new electricity generation installed nearly solar wind', 'forms clean energy nuclear hydropower currently larger share energy supply', 'however future growth forecasts appear limited comparison', 'achieve carbon neutrality renewable energy would become dominant form electricity generation rising scenarios', 'investment coal would eliminated coal use nearly phased', 'electricity would also need become main energy source heating transport', 'transport emissions reduced fast switch electric vehicles', 'public transport active transport cycling walking also produce less co shipping flying fuels used reduce emissions', 'heating would increasingly decarbonised technologies like heat pumps', 'obstacles continued rapid growth clean energy including renewables', 'wind solar environmental land use concerns new projects', 'wind solar also produce energy intermittently seasonal variability', 'traditionally hydro dams reservoirs conventional power plants used variable energy production low', 'going forward battery storage expanded energy demand supply matched transmission smooth variability renewable outputs', 'bioenergy often may negative consequences food security', 'growth nuclear power constrained controversy around nuclear waste nuclear weapon proliferation accidents', 'hydropower growth limited fact best sites developed new projects confronting increased social environmental concerns', 'energy improves human health minimising climate change', 'also benefit reducing air pollution deaths estimated million annually', 'meeting paris agreement goals limit warming increase could save million lives per year whereas limiting global warming', 'could save millions simultaneously increase energy security reduce poverty', 'reducing energy demand another major aspect reducing emissions', 'less energy needed flexibility clean energy development', 'also makes easier manage electricity grid minimises infrastructure development', 'major increases energy efficiency investment required achieve climate goals comparable level investment renewable energy', 'several related changes energy use patterns energy efficiency investments funding made forecasts decade difficult uncertain', 'strategies reduce energy demand vary sector', 'transport passengers freight switch efficient travel modes buses trains use electric vehicles', 'industrial strategies reduce energy demand include improving heating systems motors designing less products increasing product lifetimes', 'building sector focus better design new buildings higher levels energy efficiency retrofitting', 'use technologies like heat pumps also increase building energy efficiency', 'agriculture forestry face triple challenge limiting greenhouse gas emissions preventing conversion forests agricultural land meeting increases world food demand', 'set actions could reduce agriculture emissions two thirds levels', 'include reducing growth demand food agricultural products increasing land productivity protecting restoring forests reducing greenhouse gas emissions agricultural production', 'demand side key component reducing emissions shifting people towards diets', 'eliminating production livestock meat dairy would eliminate ths emissions agriculture land use', 'livestock also occupy land area earth consume feed land area used crops driving deforestation land degradation', 'steel cement production responsible industrial co emissions', 'industries materials coke lime play integral role production reducing co emissions requires research alternative chemistries', 'natural carbon sinks enhanced sequester significantly larger amounts co beyond naturally occurring levels', 'reforestation tree planting lands among mature sequestration techniques although latter raises food security concerns', 'farmers promote sequestration carbon soils practices use winter cover crops reducing intensity frequency tillage using compost manure soil amendments', 'coastal wetlands seagrass meadows increases uptake carbon organic matter blue carbon', 'carbon sequestered soils organic matter trees risk carbon atmosphere later changes land use fire changes ecosystems', 'energy production co heavy industries continue produce waste co gas captured stored instead released atmosphere', 'although current use limited scale expensive carbon capture storage ccs may able play significant role limiting co emissions', 'technique combination beccs result net negative emissions co drawn atmosphere', 'remains highly uncertain whether carbon dioxide removal techniques beccs able play large role limiting warming', '', 'policy decisions rely carbon dioxide removal increase risk global warming rising beyond international goals', 'adaptation process adjustment current expected changes climate effects', 'without additional mitigation adaptation avert risk severe widespread irreversible impacts', 'severe climate change requires transformative adaptation prohibitively expensive', 'capacity potential humans adapt unevenly distributed across different regions populations developing countries generally less', 'first two decades st century saw increase adaptive capacity countries improved access basic sanitation electricity progress slow', 'many countries implemented adaptation policies', 'however considerable gap necessary available finance', 'adaptation sea level rise consists avoiding areas learning live increased flooding protection', 'fails managed retreat may needed', 'economic barriers tackling dangerous heat impact', 'avoiding strenuous work air conditioning possible everybody', 'agriculture adaptation options include switch sustainable diets diversification erosion control genetic improvements increased tolerance changing climate', 'insurance allows often difficult get people lower incomes', 'education migration early warning systems reduce climate vulnerability', 'ecosystems adapt climate change process supported human intervention', 'increasing connectivity ecosystems species migrate favourable climate conditions', 'species also introduced areas acquiring favorable climate', 'protection restoration natural areas helps build resilience making easier ecosystems adapt', 'many actions promote adaptation ecosystems also help humans adapt via adaptation', 'instance restoration natural fire regimes makes catastrophic fires less likely reduces human exposure', 'giving rivers space allows water storage natural system reducing flood risk', 'restored forest acts carbon sink planting trees unsuitable regions exacerbate climate impacts', 'synergies adaptation mitigation', 'adaptation often offer benefits whereas mitigation benefits', 'increased use air conditioning allows people better cope heat increases energy demand', 'compact urban development may lead reduced emissions transport construction', 'time may increase urban heat island effect leading higher temperatures increased exposure', 'increased food productivity large benefits adaptation mitigation', 'countries vulnerable climate change typically responsible small share global emissions', 'raises questions justice fairness', 'climate change strongly linked sustainable development', 'limiting global warming makes easier achieve sustainable development goals eradicating poverty reducing inequalities', 'connection recognised sustainable development goal ake urgent action combat climate change impacts', 'goals food clean water ecosystem protection synergies climate mitigation', 'geopolitics climate change complex', 'often framed problem countries benefit mitigation done countries individual countries would lose switching economy', 'framing challenged', 'instance benefits coal public health local environments exceed costs almost regions', 'furthermore net importers fossil fuels win economically switching clean energy causing net exporters face stranded assets fossil fuels sell', 'wide range policies regulations laws used reduce emissions', 'carbon pricing covers global greenhouse gas emissions', 'carbon priced carbon taxes emissions trading systems', 'direct global fossil fuel subsidies reached billion', 'trillion indirect costs air pollution priced', 'ending cause reduction global carbon emissions reduction air pollution deaths', 'subsidies could used support transition clean energy instead', 'direct methods reduce greenhouse gases include vehicle efficiency standards renewable fuel standards air pollution regulations heavy industry', 'several countries require utilities increase share renewables power production', 'policy designed lens climate justice tries address human rights issues social inequality', 'instance wealthy nations responsible largest share emissions would pay poorer countries adapt', 'use fossil fuels reduced jobs sector lost', 'achieve transition people would need retrained jobs', 'communities many fossil fuel workers would need additional investments', 'nearly countries world parties united nations framework convention climate change unfccc', 'goal unfccc prevent dangerous human interference climate system', 'stated convention requires greenhouse gas concentrations stabilised atmosphere level ecosystems adapt naturally climate change food production threatened economic development sustained', 'unfccc restrict emissions rather provides framework protocols', 'global emissions risen since unfccc signed', 'yearly conferences stage global negotiations', 'kyoto protocol extended unfccc included legally binding commitments developed countries limit emissions', 'negotiations g representing developing countries pushed mandate requiring developed countries take lead reducing emissions since developed countries contributed accumulation greenhouse gases atmosphere', 'emissions also still relatively low developing countries developing countries would need emit meet development needs', 'copenhagen accord widely portrayed disappointing low goals rejected poorer nations including g associated parties aimed limit global temperature rise', 'accord set goal sending billion per year developing countries mitigation adaptation proposed founding green climate fund', 'update fund failed reach expected target risks shrinkage funding', 'un countries negotiated paris agreement aims keep global warming well', 'contains aspirational goal keeping warming', '', 'agreement replaced kyoto protocol', 'unlike kyoto binding emission targets set paris agreement', 'instead set procedures made binding', 'countries regularly set ever ambitious goals reevaluate goals every five years', 'paris agreement restated developing countries must financially supported', 'october update states european union signed treaty states eu ratified acceded agreement', 'montreal protocol international agreement stop emitting gases may effective curbing greenhouse gas emissions kyoto protocol specifically designed', 'kigali amendment montreal protocol aims reduce emissions hydrofluorocarbons group powerful greenhouse gases served replacement banned gases', 'made montreal protocol stronger agreement climate change', 'united kingdom parliament became first national government declare climate emergency', 'countries jurisdictions followed suit', 'year european parliament declared climate environmental emergency', 'european commission presented european green deal goal making eu', 'major countries asia made similar pledges south korea japan committed become china', 'european commission released fit legislation package contains guidelines car industry new cars european market must vehicles', 'india strong incentives renewables also plans significant expansion coal country', 'based information national climate plans represent parties paris agreement estimated total greenhouse gas emissions', 'lower compared levels reduction goals limit global warming', 'respectively', 'scientific consensus climate warming caused human activities', 'agreement recent literature reached', 'scientific body national international standing disagrees view', 'consensus developed form action taken protect people impacts climate change', 'national science academies called world leaders cut global emissions', 'scientific discussion takes place journal articles', 'scientists assess every years intergovernmental panel climate change reports', 'ipcc assessment report stated unequivocal climate change caused humans', 'public debate climate change strongly affected climate change denial misinformation originated united states since spread countries particularly canada australia', 'actors behind climate change denial form relatively coordinated coalition fossil fuel companies industry groups conservative think tanks contrarian scientists', 'like tobacco industry main strategy groups manufacture doubt scientific data results', 'many deny dismiss hold unwarranted doubt scientific consensus anthropogenic climate change labelled climate change skeptics several scientists noted misnomer', 'different variants climate denial deny warming takes place acknowledge warming attribute natural influences minimise negative impacts climate change', 'manufacturing uncertainty science later developed manufactured controversy creating belief significant uncertainty climate change within scientific community order delay policy changes', 'strategies promote ideas include criticism scientific institutions questioning motives individual scientists', 'echo chamber blogs media fomented misunderstanding climate change', 'climate change came international public attention late due media coverage early people often confused climate change environmental issues like ozone depletion', 'popular culture climate fiction movie day tomorrow al gore documentary inconvenient truth focused climate change', 'significant regional gender age political differences exist public concern understanding climate change', 'highly educated people countries women younger people likely see climate change serious threat', 'partisan gaps also exist many countries countries high co emissions tend less concerned', 'views causes climate change vary widely countries', 'concern increased time point majority citizens many countries express high level worry climate change view global emergency', 'higher levels worry associated stronger public support policies address climate change', 'climate protests demand political leaders take action prevent climate change', 'take form public demonstrations fossil fuel divestment lawsuits activities', 'prominent demonstrations include school strike climate', 'initiative young people across globe protesting since skipping school fridays inspired swedish teenager greta thunberg', 'mass civil disobedience actions groups like extinction rebellion protested disrupting roads public transport', 'litigation increasingly used tool strengthen climate action public institutions companies', 'activists also initiate lawsuits target governments demand take ambitious action enforce existing laws climate change', 'lawsuits companies generally seek compensation loss damage', 'joseph fourier proposed greenhouse effect explain earth temperature higher sun energy alone could explain', 'earth atmosphere transparent sunlight sunlight reaches surface converted heat', 'however atmosphere transparent heat radiating surface captures heat warms planet', 'eunice newton foote demonstrated warming effect sun greater air water vapour dry air effect even greater carbon dioxide', 'concluded atmosphere gas would give earth high temperature starting john tyndall established nitrogen totalling dry transparent radiated heat', 'however water vapour gases particular methane carbon dioxide absorb radiated heat heat within atmosphere', 'tyndall proposed changes concentrations gases may caused climatic changes past including ice ages', 'svante arrhenius noted water vapour air continuously varied co concentration air influenced geological processes', 'end ice age warming increased co levels would increase amount water vapour amplifying warming feedback loop', 'published first climate model kind showing halving co levels could produced drop temperature initiating ice age', 'arrhenius calculated temperature increase expected doubling co around', 'scientists initially sceptical believed greenhouse effect saturated adding co would make difference', 'thought climate would', 'onwards guy stewart callendar published evidence climate warming co levels rising calculations met objections', 'gilbert plass created detailed computer model included different atmospheric layers infrared spectrum', 'model predicted increasing co levels would cause warming', 'around time hans suess found evidence co levels rising roger revelle showed oceans would absorb increase', 'two scientists subsequently helped charles keeling begin record continued increase termed keeling curve', 'scientists alerted public dangers highlighted james hansen congressional testimony', 'intergovernmental panel climate change set provide formal advice world governments spurred interdisciplinary research', 'fourth assessment report fifth assessment report special report global warming', 'special report climate change land special report ocean cryosphere changing climate sixth assessment report']]\n"
     ]
    }
   ],
   "source": [
    "from nltk.stem import WordNetLemmatizer\n",
    "    \n",
    "## Step 1: Import the lemmatizer\n",
    "lemmatizer = WordNetLemmatizer()\n",
    "\n",
    "'''\n",
    "Your code here: Define a function called \"lem_sentences\" that: loops through the sentences, split the sentences up by words and applies \"lemmatizer.lemmatize\" to each word and then join everything back into a sentence\n",
    "'''\n",
    "##Similar to stopwords: For loop through the sentences, split by words and apply \"lemmatizer.lemmatize\" to each word and join back into a sentence\n",
    "\n",
    "\n",
    "from nltk.stem import PorterStemmer\n",
    "from nltk.tokenize import word_tokenize\n",
    "\n",
    "\n",
    "def lem_sentences(sentences):\n",
    "    for sent in sentences:\n",
    "        new_lemat = []\n",
    "        words=nltk.word_tokenize(sent)\n",
    "        lemat = [lemmatizer.lemmatize(x) for x in sentences]\n",
    "        h = ' '.join(lemat)\n",
    "        new_lemat.append(lemat)\n",
    "    return new_lemat\n",
    "g = lem_sentences(y)\n",
    "print(g[:10]) "
   ]
  },
  {
   "cell_type": "code",
   "execution_count": 0,
   "metadata": {
    "collapsed": false
   },
   "outputs": [
   ],
   "source": [
   ]
  },
  {
   "cell_type": "code",
   "execution_count": 0,
   "metadata": {
    "collapsed": false
   },
   "outputs": [
   ],
   "source": [
   ]
  },
  {
   "cell_type": "code",
   "execution_count": 0,
   "metadata": {
    "collapsed": false
   },
   "outputs": [
   ],
   "source": [
    "print(sentences[:10]) "
   ]
  },
  {
   "cell_type": "markdown",
   "metadata": {
    "collapsed": false
   },
   "source": [
    "## NLP Part 4 - POS Tagging\n",
    "Parts of speech tagging is marking up a word in a text as corresponding to a particular part of speech, based on both its definition and its context."
   ]
  },
  {
   "cell_type": "code",
   "execution_count": 111,
   "metadata": {
    "collapsed": false
   },
   "outputs": [
    {
     "name": "stderr",
     "output_type": "stream",
     "text": [
      "[nltk_data] Downloading package averaged_perceptron_tagger to /project\n",
      "[nltk_data]     s/820ea3ac-497c-43fd-9cb7-abe34292faa8/nltk_data...\n",
      "[nltk_data]   Package averaged_perceptron_tagger is already up-to-\n",
      "[nltk_data]       date!\n"
     ]
    },
    {
     "data": {
      "text/plain": [
       "True"
      ]
     },
     "execution_count": 111,
     "metadata": {
     },
     "output_type": "execute_result"
    }
   ],
   "source": [
    "nltk.download('averaged_perceptron_tagger')"
   ]
  },
  {
   "cell_type": "code",
   "execution_count": 114,
   "metadata": {
    "collapsed": false
   },
   "outputs": [
    {
     "name": "stdout",
     "output_type": "stream",
     "text": [
      "contemporary_JJ climate_NN change_NN includes_VBZ both_DT global_JJ warming_NN and_CC its_PRP$ impacts_NNS on_IN earth_NN 's_POS weather_NN patterns_NNS ._. there_EX have_VBP been_VBN previous_JJ periods_NNS of_IN climate_NN change_NN ,_, but_CC the_DT current_JJ changes_NNS are_VBP distinctly_RB more_RBR rapid_JJ and_CC not_RB due_JJ to_TO natural_JJ causes_NNS ._. instead_RB ,_, they_PRP are_VBP caused_VBN by_IN the_DT emission_NN of_IN greenhouse_NN gases_NNS ,_, mostly_RB carbon_NN dioxide_NN (_( co_NN )_) and_CC methane_NN ._. burning_VBG fossil_JJ fuels_NNS for_IN energy_NN use_NN creates_VBZ most_JJS of_IN these_DT emissions_NNS ._. certain_JJ agricultural_JJ practices_NNS ,_, industrial_JJ processes_NNS ,_, and_CC forest_JJS loss_NN are_VBP additional_JJ sources_NNS ._. greenhouse_NN gases_NNS are_VBP transparent_JJ to_TO sunlight_VB ,_, allowing_VBG it_PRP through_IN to_TO heat_VB the_DT earth_NN 's_POS surface_NN ._. when_WRB the_DT earth_NN emits_VBZ that_DT heat_NN as_IN in\n"
     ]
    }
   ],
   "source": [
    "# POS Tagging example\n",
    "# CC - coordinating conjunction\n",
    "# NN - noun, singular (cat, tree)\n",
    "all_words = nltk.word_tokenize(text)  ###If we want to look at part of speech taking before we stem/lem\n",
    "\n",
    "tagged_words = nltk.pos_tag(all_words)\n",
    "##Creates a list of lists where each element of the list is [word,partofspeech abbreviation]\n",
    "\n",
    "    \n",
    "    \n",
    "# Tagged word paragraph\n",
    "word_tags = []\n",
    "for tw in tagged_words:\n",
    "    word_tags.append(tw[0]+\"_\"+tw[1])\n",
    "\n",
    "tagged_paragraph = ' '.join(word_tags)\n",
    "\n",
    "'''\n",
    "Your code here: print the first 1000 characters of tagged_paragraph.\n",
    "'''\n",
    "print(tagged_paragraph[:1000])"
   ]
  },
  {
   "cell_type": "markdown",
   "metadata": {
    "collapsed": false
   },
   "source": [
    "# Word2Vec Model Visualization"
   ]
  },
  {
   "cell_type": "code",
   "execution_count": 116,
   "metadata": {
    "collapsed": false
   },
   "outputs": [
    {
     "name": "stderr",
     "output_type": "stream",
     "text": [
      "[nltk_data] Downloading package punkt to /projects/820ea3ac-497c-43fd-\n",
      "[nltk_data]     9cb7-abe34292faa8/nltk_data...\n",
      "[nltk_data]   Package punkt is already up-to-date!\n"
     ]
    }
   ],
   "source": [
    "# Install gensim - pip install gensim\n",
    "import nltk\n",
    "from gensim.models import Word2Vec\n",
    "import matplotlib.pyplot as plt\n",
    "nltk.download('punkt')\n",
    "from wordcloud import WordCloud"
   ]
  },
  {
   "cell_type": "code",
   "execution_count": 0,
   "metadata": {
    "collapsed": false
   },
   "outputs": [
   ],
   "source": [
    "#Let's go ahead and create a list that's formatted how word2vec needs:\n",
    "    # a list of lists where the ith entry in the list is the word tokenizaiton of the ith sentence (after preprocessing)"
   ]
  },
  {
   "cell_type": "code",
   "execution_count": 0,
   "metadata": {
    "collapsed": false
   },
   "outputs": [
   ],
   "source": [
    "# print the tokenized list of lists"
   ]
  },
  {
   "cell_type": "markdown",
   "metadata": {
    "collapsed": false
   },
   "source": [
    "## Training the Word2Vec model\n",
    "\n",
    "For this part you may want to follow a guide [here](https://radimrehurek.com/gensim/models/word2vec.html). \n",
    "\n"
   ]
  },
  {
   "cell_type": "code",
   "execution_count": 0,
   "metadata": {
    "collapsed": false
   },
   "outputs": [
   ],
   "source": [
    "''' Training the Word2Vec model. You should pass:\n",
    "1. a list of lists where the ith entry in the list is the word tokenizaiton of the ith sentence\n",
    "2. min_count=1 --> Ignores all words with total frequency lower than 1 (i.e., include everything).\n",
    "'''\n",
    "# create the model\n",
    "from gensim.test.utils import common_texts\n",
    "from gensim.models import Word2Vec\n",
    "\n",
    "#model = Word2Vec(sentences=common_texts, vector_size=100, window=5, min_count=1, workers=4)\n",
    "model.save(\"word2vec.model\")\n",
    "\n",
    "# get the most common words of the model (it's entire vocabulary)\n",
    "\n",
    "\n",
    "# save the model to use it later\n",
    "\n",
    "#model = Word2Vec.load(\"word2vec.model\")"
   ]
  },
  {
   "cell_type": "code",
   "execution_count": 127,
   "metadata": {
    "collapsed": false
   },
   "outputs": [
   ],
   "source": [
    "model=Word2Vec(token_list, vector_size=100, window=5, min_count=1, workers=4)"
   ]
  },
  {
   "cell_type": "code",
   "execution_count": 125,
   "metadata": {
    "collapsed": false
   },
   "outputs": [
   ],
   "source": [
    "token_list=[]\n",
    "\n",
    "token_list=[nltk.word_tokenize(sentence) for sentence in g[0]]\n",
    "    \n",
    "    \n",
    "    "
   ]
  },
  {
   "cell_type": "code",
   "execution_count": 118,
   "metadata": {
    "collapsed": false
   },
   "outputs": [
    {
     "name": "stdout",
     "output_type": "stream",
     "text": [
      "[['human', 'interface', 'computer'], ['survey', 'user', 'computer', 'system', 'response', 'time'], ['eps', 'user', 'interface', 'system'], ['system', 'human', 'system', 'eps'], ['user', 'response', 'time']]\n"
     ]
    }
   ],
   "source": [
    "from gensim.test.utils import common_texts\n",
    "print(common_texts[:5])"
   ]
  },
  {
   "cell_type": "code",
   "execution_count": 0,
   "metadata": {
    "collapsed": false
   },
   "outputs": [
   ],
   "source": [
    "#print the first 10 most common words."
   ]
  },
  {
   "cell_type": "code",
   "execution_count": 0,
   "metadata": {
    "collapsed": false
   },
   "outputs": [
   ],
   "source": [
   ]
  },
  {
   "cell_type": "code",
   "execution_count": 0,
   "metadata": {
    "collapsed": false
   },
   "outputs": [
   ],
   "source": [
    "# Look up the most similar words to certain words in your text using the model.wv.most_similar() function"
   ]
  },
  {
   "cell_type": "code",
   "execution_count": 0,
   "metadata": {
    "collapsed": false
   },
   "outputs": [
   ],
   "source": [
   ]
  },
  {
   "cell_type": "markdown",
   "metadata": {
    "collapsed": false
   },
   "source": [
    "## Testing our model"
   ]
  },
  {
   "cell_type": "code",
   "execution_count": 0,
   "metadata": {
    "collapsed": false
   },
   "outputs": [
   ],
   "source": [
    "    # Finding Word Vectors - print word vectors for certain words in your text\n"
   ]
  },
  {
   "cell_type": "code",
   "execution_count": 0,
   "metadata": {
    "collapsed": false
   },
   "outputs": [
   ],
   "source": [
    "    ### Finding the most similar words in the model ###\n"
   ]
  },
  {
   "cell_type": "code",
   "execution_count": 0,
   "metadata": {
    "collapsed": false
   },
   "outputs": [
   ],
   "source": [
   ]
  },
  {
   "cell_type": "code",
   "execution_count": 0,
   "metadata": {
    "collapsed": false
   },
   "outputs": [
   ],
   "source": [
    "similar1, similar2"
   ]
  },
  {
   "cell_type": "code",
   "execution_count": 115,
   "metadata": {
    "collapsed": false
   },
   "outputs": [
    {
     "ename": "NameError",
     "evalue": "name 'WordCloud' is not defined",
     "output_type": "error",
     "traceback": [
      "\u001b[0;31m---------------------------------------------------------------------------\u001b[0m",
      "\u001b[0;31mNameError\u001b[0m                                 Traceback (most recent call last)",
      "Input \u001b[0;32mIn [115]\u001b[0m, in \u001b[0;36m<cell line: 2>\u001b[0;34m()\u001b[0m\n\u001b[1;32m      1\u001b[0m \u001b[38;5;66;03m# code to print a wordcloud for your sentences\u001b[39;00m\n\u001b[0;32m----> 2\u001b[0m wordcloud \u001b[38;5;241m=\u001b[39m \u001b[43mWordCloud\u001b[49m(\n\u001b[1;32m      3\u001b[0m                         background_color\u001b[38;5;241m=\u001b[39m\u001b[38;5;124m'\u001b[39m\u001b[38;5;124mwhite\u001b[39m\u001b[38;5;124m'\u001b[39m,\n\u001b[1;32m      4\u001b[0m                         max_words\u001b[38;5;241m=\u001b[39m\u001b[38;5;241m100\u001b[39m,\n\u001b[1;32m      5\u001b[0m                         max_font_size\u001b[38;5;241m=\u001b[39m\u001b[38;5;241m50\u001b[39m, \n\u001b[1;32m      6\u001b[0m                         random_state\u001b[38;5;241m=\u001b[39m\u001b[38;5;241m42\u001b[39m\n\u001b[1;32m      7\u001b[0m                         )\u001b[38;5;241m.\u001b[39mgenerate(\u001b[38;5;28mstr\u001b[39m(g))\n\u001b[1;32m      8\u001b[0m fig \u001b[38;5;241m=\u001b[39m plt\u001b[38;5;241m.\u001b[39mfigure(\u001b[38;5;241m1\u001b[39m)\n\u001b[1;32m      9\u001b[0m plt\u001b[38;5;241m.\u001b[39mfigure(figsize\u001b[38;5;241m=\u001b[39m(\u001b[38;5;241m10\u001b[39m,\u001b[38;5;241m10\u001b[39m))\n",
      "\u001b[0;31mNameError\u001b[0m: name 'WordCloud' is not defined"
     ]
    }
   ],
   "source": [
    "# code to print a wordcloud for your sentences\n",
    "wordcloud = WordCloud(\n",
    "                        background_color='white',\n",
    "                        max_words=100,\n",
    "                        max_font_size=50, \n",
    "                        random_state=42\n",
    "                        ).generate(str(g))\n",
    "fig = plt.figure(1)\n",
    "plt.figure(figsize=(10,10))\n",
    "plt.imshow(wordcloud, interpolation=\"bilinear\")\n",
    "plt.axis('off')\n",
    "plt.show()"
   ]
  },
  {
   "cell_type": "markdown",
   "metadata": {
    "collapsed": false
   },
   "source": [
    "### Why did we do all this work?"
   ]
  },
  {
   "cell_type": "code",
   "execution_count": 0,
   "metadata": {
    "collapsed": false
   },
   "outputs": [
   ],
   "source": [
    "# reFetching the data\n",
    "lame_text = \"\"\n",
    "for paragraph in soup.find_all('p'): #The <p> tag defines a paragraph in the webpages\n",
    "    lame_text += paragraph.text"
   ]
  },
  {
   "cell_type": "code",
   "execution_count": 0,
   "metadata": {
    "collapsed": false
   },
   "outputs": [
   ],
   "source": [
    "'''\n",
    "Doing the same without removing stop words or lemming\n",
    "'''\n",
    "# tokenize the text using sent_tokenize\n",
    "\n",
    "# from this list of sentences, create a list of lists where the ith entry in the list is the word tokenizaiton of the ith sentence (after preprocessing)"
   ]
  },
  {
   "cell_type": "code",
   "execution_count": 0,
   "metadata": {
    "collapsed": false
   },
   "outputs": [
   ],
   "source": [
    "# Redo the word cloud but set stopwords to empty so it looks really bad\n",
    "wordcloud = WordCloud(\n",
    "                        background_color='white',\n",
    "                        max_words=100,\n",
    "                        max_font_size=50, \n",
    "                        random_state=42, ###SET STOPWORDS = [] and/or include_numbers = True or you will get the same thing!!!\n",
    "                        stopwords = [],\n",
    "                        include_numbers = True).generate(str(lame_sentences)) \n",
    "fig = plt.figure(1)\n",
    "plt.figure(figsize=(10,10))\n",
    "plt.imshow(wordcloud, interpolation=\"bilinear\")\n",
    "plt.axis('off')\n",
    "plt.show()"
   ]
  },
  {
   "cell_type": "code",
   "execution_count": 0,
   "metadata": {
    "collapsed": false
   },
   "outputs": [
   ],
   "source": [
    "# Training the Word2Vec model (same code as before), but one change: use our lame data that was not preprocessed\n",
    "\n",
    "# Try printing this after training the model.\n",
    "words = model.wv.index_to_key\n",
    "print(words[:10])"
   ]
  },
  {
   "cell_type": "code",
   "execution_count": 0,
   "metadata": {
    "collapsed": false
   },
   "outputs": [
   ],
   "source": [
    "# Finding a vector of a word, but badly"
   ]
  },
  {
   "cell_type": "code",
   "execution_count": 0,
   "metadata": {
    "collapsed": false
   },
   "outputs": [
   ],
   "source": [
    "### Finding the most similar words in the model but... you get the idea ###\n",
    "\n"
   ]
  },
  {
   "cell_type": "code",
   "execution_count": 0,
   "metadata": {
    "collapsed": false
   },
   "outputs": [
   ],
   "source": [
   ]
  },
  {
   "cell_type": "markdown",
   "metadata": {
    "collapsed": false
   },
   "source": [
    "## Reflection\n",
    "\n",
    "How important do you think proper preprocessing in NLP is?\n",
    "\n"
   ]
  },
  {
   "cell_type": "markdown",
   "metadata": {
    "collapsed": false
   },
   "source": [
    "pretty important\n"
   ]
  }
 ],
 "metadata": {
  "interpreter": {
   "hash": "335ee12212264728feb72f243af72c5a8ea26c832f07e1f651ce9e17c7ceae23"
  },
  "kernelspec": {
   "display_name": "Python (nlp_env)",
   "language": "python",
   "metadata": {
    "debugger": true
   },
   "name": "nlp_env",
   "resource_dir": "/projects/820ea3ac-497c-43fd-9cb7-abe34292faa8/.local/share/jupyter/kernels/nlp_env"
  },
  "language_info": {
   "codemirror_mode": {
    "name": "ipython",
    "version": 3
   },
   "file_extension": ".py",
   "mimetype": "text/x-python",
   "name": "python",
   "nbconvert_exporter": "python",
   "pygments_lexer": "ipython3",
   "version": "3.9.12"
  },
  "widgets": {
   "application/vnd.jupyter.widget-state+json": {
    "state": {
    },
    "version_major": 2,
    "version_minor": 0
   }
  }
 },
 "nbformat": 4,
 "nbformat_minor": 4
}