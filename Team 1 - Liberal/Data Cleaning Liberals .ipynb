{
 "cells": [
  {
   "cell_type": "code",
   "execution_count": 270,
   "metadata": {
    "collapsed": false
   },
   "outputs": [
    {
     "name": "stderr",
     "output_type": "stream",
     "text": [
      "/tmp/ipykernel_5017/3623583555.py:4: DtypeWarning: Columns (4,6,9,39,41,42,43,47) have mixed types. Specify dtype option on import or set low_memory=False.\n",
      "  peter_dataset = pd.read_csv('/projects/820ea3ac-497c-43fd-9cb7-abe34292faa8/SC22-BatchA-Blurred-Futures/Data/peter-democrats-6months.csv')\n"
     ]
    }
   ],
   "source": [
    "import pandas as pd\n",
    "# add all data into 1 big dataset\n",
    "joanne_dataset = pd.read_csv('/projects/820ea3ac-497c-43fd-9cb7-abe34292faa8/SC22-BatchA-Blurred-Futures/Data/joanne_liberals_6months.csv')\n",
    "peter_dataset = pd.read_csv('/projects/820ea3ac-497c-43fd-9cb7-abe34292faa8/SC22-BatchA-Blurred-Futures/Data/peter-democrats-6months.csv')\n",
    "kaggle_dataset = pd.read_csv('/projects/820ea3ac-497c-43fd-9cb7-abe34292faa8/SC22-BatchA-Blurred-Futures/Data/kaggle_dataset.csv')"
   ]
  },
  {
   "cell_type": "code",
   "execution_count": 0,
   "metadata": {
    "collapsed": false
   },
   "outputs": [
   ],
   "source": [
   ]
  },
  {
   "cell_type": "code",
   "execution_count": 0,
   "metadata": {
    "collapsed": false
   },
   "outputs": [
   ],
   "source": [
   ]
  },
  {
   "cell_type": "code",
   "execution_count": 0,
   "metadata": {
    "collapsed": false
   },
   "outputs": [
   ],
   "source": [
   ]
  },
  {
   "cell_type": "code",
   "execution_count": 0,
   "metadata": {
    "collapsed": false
   },
   "outputs": [
   ],
   "source": [
   ]
  },
  {
   "cell_type": "code",
   "execution_count": 0,
   "metadata": {
    "collapsed": false
   },
   "outputs": [
   ],
   "source": [
   ]
  },
  {
   "cell_type": "code",
   "execution_count": 0,
   "metadata": {
    "collapsed": false
   },
   "outputs": [
   ],
   "source": [
   ]
  },
  {
   "cell_type": "code",
   "execution_count": 149,
   "metadata": {
    "collapsed": false
   },
   "outputs": [
    {
     "data": {
      "text/plain": [
       "(8034, 2)"
      ]
     },
     "execution_count": 149,
     "metadata": {
     },
     "output_type": "execute_result"
    }
   ],
   "source": [
    "kaggle_liberal_dataset.shape"
   ]
  },
  {
   "cell_type": "code",
   "execution_count": 0,
   "metadata": {
    "collapsed": false
   },
   "outputs": [
   ],
   "source": [
   ]
  },
  {
   "cell_type": "code",
   "execution_count": 271,
   "metadata": {
    "collapsed": false
   },
   "outputs": [
    {
     "data": {
      "text/plain": [
       "(102102, 2)"
      ]
     },
     "execution_count": 271,
     "metadata": {
     },
     "output_type": "execute_result"
    }
   ],
   "source": [
    "joanne_dataset = joanne_dataset[joanne_dataset['score'] > 0]\n",
    "peter_dataset = peter_dataset[peter_dataset['score'] > 0]\n",
    "joanne_dataset = joanne_dataset[['body', 'score']]\n",
    "peter_dataset = peter_dataset[['body', 'score']]\n",
    "\n",
    "kaggle_liberal_dataset = kaggle_dataset[kaggle_dataset['Political Lean'] == 'Liberal']\n",
    "kaggle_liberal_dataset = kaggle_liberal_dataset[kaggle_liberal_dataset['Score'] > 0]\n",
    "kaggle_liberal_dataset = kaggle_liberal_dataset[['Title', 'Score']]\n",
    "kaggle_liberal_dataset = kaggle_liberal_dataset.rename(columns={\"Title\":\"body\"})\n",
    "kaggle_liberal_dataset = kaggle_liberal_dataset.rename(columns={\"Score\":\"score\"})\n",
    "kaggle_liberal_dataset.head()\n",
    "# adding all of the datasets together\n",
    "list_of_datasets = [peter_dataset, joanne_dataset, kaggle_liberal_dataset]\n",
    "ald = pd.concat(list_of_datasets)\n",
    "# cleaning the data\n",
    "ald.shape"
   ]
  },
  {
   "cell_type": "code",
   "execution_count": 0,
   "metadata": {
    "collapsed": false
   },
   "outputs": [
   ],
   "source": [
   ]
  },
  {
   "cell_type": "code",
   "execution_count": 0,
   "metadata": {
    "collapsed": false
   },
   "outputs": [
   ],
   "source": [
   ]
  },
  {
   "cell_type": "code",
   "execution_count": 272,
   "metadata": {
    "collapsed": false
   },
   "outputs": [
   ],
   "source": [
    "# turn all the data to lower-case\n",
    "ald['body'] = ald['body'].apply(lambda x: str(x).lower())"
   ]
  },
  {
   "cell_type": "code",
   "execution_count": 0,
   "metadata": {
    "collapsed": false
   },
   "outputs": [
   ],
   "source": [
   ]
  },
  {
   "cell_type": "code",
   "execution_count": 0,
   "metadata": {
    "collapsed": false
   },
   "outputs": [
   ],
   "source": [
   ]
  },
  {
   "cell_type": "code",
   "execution_count": 154,
   "metadata": {
    "collapsed": false
   },
   "outputs": [
    {
     "data": {
      "text/plain": [
       "(102102, 2)"
      ]
     },
     "execution_count": 154,
     "metadata": {
     },
     "output_type": "execute_result"
    }
   ],
   "source": [
    "ald.shape"
   ]
  },
  {
   "cell_type": "code",
   "execution_count": 273,
   "metadata": {
    "collapsed": false
   },
   "outputs": [
   ],
   "source": [
    "# filter the data by the number of words in each comment\n",
    "ald['word_counts'] = ald['body'].apply(lambda x: len(str(x).split()))\n",
    "ald = ald[ald['word_counts'] > 8]"
   ]
  },
  {
   "cell_type": "code",
   "execution_count": 0,
   "metadata": {
    "collapsed": false
   },
   "outputs": [
   ],
   "source": [
   ]
  },
  {
   "cell_type": "code",
   "execution_count": 0,
   "metadata": {
    "collapsed": false
   },
   "outputs": [
   ],
   "source": [
   ]
  },
  {
   "cell_type": "code",
   "execution_count": 156,
   "metadata": {
    "collapsed": false
   },
   "outputs": [
    {
     "data": {
      "text/plain": [
       "(62893, 3)"
      ]
     },
     "execution_count": 156,
     "metadata": {
     },
     "output_type": "execute_result"
    }
   ],
   "source": [
    "ald.shape"
   ]
  },
  {
   "cell_type": "code",
   "execution_count": 274,
   "metadata": {
    "collapsed": false
   },
   "outputs": [
   ],
   "source": [
    "ald.reset_index(drop=True, inplace=True)"
   ]
  },
  {
   "cell_type": "code",
   "execution_count": 0,
   "metadata": {
    "collapsed": false
   },
   "outputs": [
   ],
   "source": [
   ]
  },
  {
   "cell_type": "code",
   "execution_count": 0,
   "metadata": {
    "collapsed": false
   },
   "outputs": [
   ],
   "source": [
   ]
  },
  {
   "cell_type": "code",
   "execution_count": 275,
   "metadata": {
    "collapsed": false
   },
   "outputs": [
   ],
   "source": [
    "#remove email\n",
    "import re\n",
    "# creates a column with the count of number of emails the comment has\n",
    "ald['emails'] = ald['body'].apply(lambda x: re.findall(r'([a-z0-9+._-]+@[a-z0-9+._-]+\\.[a-z0-9+_-]+\\b)', x))\n",
    "ald['emails_count'] = ald['emails'].apply(lambda x: len(x))\n",
    "# removes all the eamils from the comments\n",
    "ald['body'] = ald['body'].apply(lambda x: re.sub(r'([a-z0-9+._-]+@[a-z0-9+._-]+\\.[a-z0-9+_-]+)',\"\", x))"
   ]
  },
  {
   "cell_type": "code",
   "execution_count": 0,
   "metadata": {
    "collapsed": false
   },
   "outputs": [
   ],
   "source": [
   ]
  },
  {
   "cell_type": "code",
   "execution_count": 0,
   "metadata": {
    "collapsed": false
   },
   "outputs": [
   ],
   "source": [
   ]
  },
  {
   "cell_type": "code",
   "execution_count": 276,
   "metadata": {
    "collapsed": false
   },
   "outputs": [
   ],
   "source": [
    "#remove big spaces\n",
    "\n",
    "ald['body'] = ald['body'].apply(lambda x: ' '.join(x.split()))"
   ]
  },
  {
   "cell_type": "code",
   "execution_count": 0,
   "metadata": {
    "collapsed": false
   },
   "outputs": [
   ],
   "source": [
   ]
  },
  {
   "cell_type": "code",
   "execution_count": 0,
   "metadata": {
    "collapsed": false
   },
   "outputs": [
   ],
   "source": [
   ]
  },
  {
   "cell_type": "code",
   "execution_count": 277,
   "metadata": {
    "collapsed": false
   },
   "outputs": [
   ],
   "source": [
    "#remove url\n",
    "ald['body'] = ald['body'].apply(lambda x: re.sub(r'(http|https|ftp|ssh)://([\\w_-]+(?:(?:\\.[\\w_-]+)+))([\\w.,@?^=%&:/~+#-]*[\\w@?^=%&/~+#-])?', '' , x))"
   ]
  },
  {
   "cell_type": "code",
   "execution_count": 279,
   "metadata": {
    "collapsed": false
   },
   "outputs": [
   ],
   "source": [
    "ald2=ald.copy()"
   ]
  },
  {
   "cell_type": "code",
   "execution_count": 0,
   "metadata": {
    "collapsed": false
   },
   "outputs": [
   ],
   "source": [
   ]
  },
  {
   "cell_type": "code",
   "execution_count": 0,
   "metadata": {
    "collapsed": false
   },
   "outputs": [
   ],
   "source": [
   ]
  },
  {
   "cell_type": "code",
   "execution_count": 285,
   "metadata": {
    "collapsed": false
   },
   "outputs": [
   ],
   "source": [
    "#remove special characters\n",
    "\n",
    "ald['body'] = ald['body'].apply(lambda x: re.sub(r'[^\\w.,;!?]+', ' ', x))\n",
    "# ald['body'] = ald['body'].apply(lambda x: re.sub(r'[^\\w\\s]', '', x))\n",
    "ald.to_csv('/projects/820ea3ac-497c-43fd-9cb7-abe34292faa8/SC22-BatchA-Blurred-Futures/Data/cleaned_liberal_data.csv')"
   ]
  },
  {
   "cell_type": "code",
   "execution_count": 0,
   "metadata": {
    "collapsed": false
   },
   "outputs": [
   ],
   "source": [
   ]
  },
  {
   "cell_type": "code",
   "execution_count": 0,
   "metadata": {
    "collapsed": false
   },
   "outputs": [
   ],
   "source": [
   ]
  },
  {
   "cell_type": "code",
   "execution_count": 283,
   "metadata": {
    "collapsed": false
   },
   "outputs": [
    {
     "data": {
      "text/plain": [
       "'/projects/820ea3ac-497c-43fd-9cb7-abe34292faa8/SC22-BatchA-Blurred-Futures/Team 1 - Liberal'"
      ]
     },
     "execution_count": 283,
     "metadata": {
     },
     "output_type": "execute_result"
    }
   ],
   "source": [
    "pwd"
   ]
  },
  {
   "cell_type": "code",
   "execution_count": 0,
   "metadata": {
    "collapsed": false
   },
   "outputs": [
   ],
   "source": [
   ]
  },
  {
   "cell_type": "code",
   "execution_count": 0,
   "metadata": {
    "collapsed": false
   },
   "outputs": [
   ],
   "source": [
   ]
  },
  {
   "cell_type": "code",
   "execution_count": 0,
   "metadata": {
    "collapsed": false
   },
   "outputs": [
   ],
   "source": [
   ]
  },
  {
   "cell_type": "code",
   "execution_count": 0,
   "metadata": {
    "collapsed": false
   },
   "outputs": [
   ],
   "source": [
   ]
  },
  {
   "cell_type": "code",
   "execution_count": 0,
   "metadata": {
    "collapsed": false
   },
   "outputs": [
   ],
   "source": [
   ]
  },
  {
   "cell_type": "code",
   "execution_count": 0,
   "metadata": {
    "collapsed": false
   },
   "outputs": [
   ],
   "source": [
   ]
  },
  {
   "cell_type": "code",
   "execution_count": 0,
   "metadata": {
    "collapsed": false
   },
   "outputs": [
   ],
   "source": [
   ]
  },
  {
   "cell_type": "code",
   "execution_count": 195,
   "metadata": {
    "collapsed": false
   },
   "outputs": [
    {
     "data": {
      "text/plain": [
       "'and after durhams clarification she could possibly win its harder for a public figure but fox has shown actual malice towards her'"
      ]
     },
     "execution_count": 195,
     "metadata": {
     },
     "output_type": "execute_result"
    }
   ],
   "source": [
    "ald['body'][0]"
   ]
  },
  {
   "cell_type": "code",
   "execution_count": 0,
   "metadata": {
    "collapsed": false
   },
   "outputs": [
   ],
   "source": [
   ]
  },
  {
   "cell_type": "code",
   "execution_count": 266,
   "metadata": {
    "collapsed": false
   },
   "outputs": [
    {
     "data": {
      "text/html": [
       "<div>\n",
       "<style scoped>\n",
       "    .dataframe tbody tr th:only-of-type {\n",
       "        vertical-align: middle;\n",
       "    }\n",
       "\n",
       "    .dataframe tbody tr th {\n",
       "        vertical-align: top;\n",
       "    }\n",
       "\n",
       "    .dataframe thead th {\n",
       "        text-align: right;\n",
       "    }\n",
       "</style>\n",
       "<table border=\"1\" class=\"dataframe\">\n",
       "  <thead>\n",
       "    <tr style=\"text-align: right;\">\n",
       "      <th></th>\n",
       "      <th>body</th>\n",
       "      <th>score</th>\n",
       "      <th>word_counts</th>\n",
       "      <th>emails</th>\n",
       "      <th>emails_count</th>\n",
       "    </tr>\n",
       "  </thead>\n",
       "  <tbody>\n",
       "    <tr>\n",
       "      <th>0</th>\n",
       "      <td>andafterdurhamsclarificationshecouldpossiblywi...</td>\n",
       "      <td>2</td>\n",
       "      <td>22</td>\n",
       "      <td>[]</td>\n",
       "      <td>0</td>\n",
       "    </tr>\n",
       "    <tr>\n",
       "      <th>1</th>\n",
       "      <td>itssaditstakenusthislongtogethere</td>\n",
       "      <td>2</td>\n",
       "      <td>10</td>\n",
       "      <td>[]</td>\n",
       "      <td>0</td>\n",
       "    </tr>\n",
       "    <tr>\n",
       "      <th>2</th>\n",
       "      <td>repchriscollinstippedoffhissonwithinsiderinfot...</td>\n",
       "      <td>5</td>\n",
       "      <td>23</td>\n",
       "      <td>[]</td>\n",
       "      <td>0</td>\n",
       "    </tr>\n",
       "    <tr>\n",
       "      <th>3</th>\n",
       "      <td>iftrumpusesthe5thitwilllookbadonlyifthepublicg...</td>\n",
       "      <td>3</td>\n",
       "      <td>23</td>\n",
       "      <td>[]</td>\n",
       "      <td>0</td>\n",
       "    </tr>\n",
       "    <tr>\n",
       "      <th>4</th>\n",
       "      <td>timetoendthatnetworkandimbecileslikehannity</td>\n",
       "      <td>3</td>\n",
       "      <td>9</td>\n",
       "      <td>[]</td>\n",
       "      <td>0</td>\n",
       "    </tr>\n",
       "    <tr>\n",
       "      <th>5</th>\n",
       "      <td>howmuchisthatceoworthwhatpercentageofhisworthi...</td>\n",
       "      <td>3</td>\n",
       "      <td>14</td>\n",
       "      <td>[]</td>\n",
       "      <td>0</td>\n",
       "    </tr>\n",
       "    <tr>\n",
       "      <th>6</th>\n",
       "      <td>withericalloptionsatnumbet500areopen</td>\n",
       "      <td>1</td>\n",
       "      <td>9</td>\n",
       "      <td>[]</td>\n",
       "      <td>0</td>\n",
       "    </tr>\n",
       "    <tr>\n",
       "      <th>7</th>\n",
       "      <td>mrsclintonlostin2016whydoesfoxandtheidiotalway...</td>\n",
       "      <td>3</td>\n",
       "      <td>24</td>\n",
       "      <td>[]</td>\n",
       "      <td>0</td>\n",
       "    </tr>\n",
       "    <tr>\n",
       "      <th>8</th>\n",
       "      <td>inatwopartysystemlikewehavethemorecandidateswh...</td>\n",
       "      <td>3</td>\n",
       "      <td>293</td>\n",
       "      <td>[]</td>\n",
       "      <td>0</td>\n",
       "    </tr>\n",
       "    <tr>\n",
       "      <th>9</th>\n",
       "      <td>ughitshouldcovertheirentireimmediatefamilythel...</td>\n",
       "      <td>18</td>\n",
       "      <td>37</td>\n",
       "      <td>[]</td>\n",
       "      <td>0</td>\n",
       "    </tr>\n",
       "    <tr>\n",
       "      <th>10</th>\n",
       "      <td>weshouldstartagofundmejusttogetthelawsuitgoing</td>\n",
       "      <td>11</td>\n",
       "      <td>13</td>\n",
       "      <td>[]</td>\n",
       "      <td>0</td>\n",
       "    </tr>\n",
       "    <tr>\n",
       "      <th>11</th>\n",
       "      <td>itsjustasimportantasanythingelsethatwillneverg...</td>\n",
       "      <td>5</td>\n",
       "      <td>36</td>\n",
       "      <td>[]</td>\n",
       "      <td>0</td>\n",
       "    </tr>\n",
       "    <tr>\n",
       "      <th>12</th>\n",
       "      <td>seanlumpyhannityadeveryoneatfixnewshatesdemocr...</td>\n",
       "      <td>3</td>\n",
       "      <td>22</td>\n",
       "      <td>[]</td>\n",
       "      <td>0</td>\n",
       "    </tr>\n",
       "    <tr>\n",
       "      <th>13</th>\n",
       "      <td>hisdareseemstobeproofofactualmalice</td>\n",
       "      <td>40</td>\n",
       "      <td>9</td>\n",
       "      <td>[]</td>\n",
       "      <td>0</td>\n",
       "    </tr>\n",
       "    <tr>\n",
       "      <th>14</th>\n",
       "      <td>idontlikeherpoliticsbutsheshowishonest</td>\n",
       "      <td>4</td>\n",
       "      <td>10</td>\n",
       "      <td>[]</td>\n",
       "      <td>0</td>\n",
       "    </tr>\n",
       "    <tr>\n",
       "      <th>15</th>\n",
       "      <td>hannitycangotohellwegotalloffoxnewsbroadcastwh...</td>\n",
       "      <td>22</td>\n",
       "      <td>49</td>\n",
       "      <td>[]</td>\n",
       "      <td>0</td>\n",
       "    </tr>\n",
       "    <tr>\n",
       "      <th>16</th>\n",
       "      <td>theironyisthatthelawandorderrhetoricundernixon...</td>\n",
       "      <td>1</td>\n",
       "      <td>63</td>\n",
       "      <td>[]</td>\n",
       "      <td>0</td>\n",
       "    </tr>\n",
       "    <tr>\n",
       "      <th>17</th>\n",
       "      <td>illdonateaslongasthewearejustentertainmentdefe...</td>\n",
       "      <td>16</td>\n",
       "      <td>23</td>\n",
       "      <td>[]</td>\n",
       "      <td>0</td>\n",
       "    </tr>\n",
       "    <tr>\n",
       "      <th>18</th>\n",
       "      <td>shouldntallprimarysbeopenwithrankchoiceandthen...</td>\n",
       "      <td>9</td>\n",
       "      <td>22</td>\n",
       "      <td>[]</td>\n",
       "      <td>0</td>\n",
       "    </tr>\n",
       "    <tr>\n",
       "      <th>19</th>\n",
       "      <td>icouldnotbemoreantitrumpandifilivedinwyomingiw...</td>\n",
       "      <td>10</td>\n",
       "      <td>50</td>\n",
       "      <td>[]</td>\n",
       "      <td>0</td>\n",
       "    </tr>\n",
       "    <tr>\n",
       "      <th>20</th>\n",
       "      <td>foxsimplyfosterscultismasitcannotwinovernewmem...</td>\n",
       "      <td>31</td>\n",
       "      <td>23</td>\n",
       "      <td>[]</td>\n",
       "      <td>0</td>\n",
       "    </tr>\n",
       "    <tr>\n",
       "      <th>21</th>\n",
       "      <td>evenifseanhannityorfoxlostthatfighttheywouldwi...</td>\n",
       "      <td>9</td>\n",
       "      <td>25</td>\n",
       "      <td>[]</td>\n",
       "      <td>0</td>\n",
       "    </tr>\n",
       "    <tr>\n",
       "      <th>22</th>\n",
       "      <td>thegoalofthelefthowaboutthegoalofthegaowherepe...</td>\n",
       "      <td>3</td>\n",
       "      <td>27</td>\n",
       "      <td>[]</td>\n",
       "      <td>0</td>\n",
       "    </tr>\n",
       "    <tr>\n",
       "      <th>23</th>\n",
       "      <td>ifpleadingthe5thmeantjudgementdidntcomeifeelli...</td>\n",
       "      <td>2</td>\n",
       "      <td>27</td>\n",
       "      <td>[]</td>\n",
       "      <td>0</td>\n",
       "    </tr>\n",
       "    <tr>\n",
       "      <th>24</th>\n",
       "      <td>maybestephenkingcangetinonthishesworthabout500...</td>\n",
       "      <td>13</td>\n",
       "      <td>20</td>\n",
       "      <td>[]</td>\n",
       "      <td>0</td>\n",
       "    </tr>\n",
       "    <tr>\n",
       "      <th>25</th>\n",
       "      <td>gttheypointtothespecialelectionlastspringinnew...</td>\n",
       "      <td>4</td>\n",
       "      <td>118</td>\n",
       "      <td>[]</td>\n",
       "      <td>0</td>\n",
       "    </tr>\n",
       "    <tr>\n",
       "      <th>26</th>\n",
       "      <td>whowantstobetthattheyallpleadthe5thtoeveryques...</td>\n",
       "      <td>1</td>\n",
       "      <td>13</td>\n",
       "      <td>[]</td>\n",
       "      <td>0</td>\n",
       "    </tr>\n",
       "    <tr>\n",
       "      <th>27</th>\n",
       "      <td>iwillnotcelebrateuntilaftertheyhavetestifiedan...</td>\n",
       "      <td>1</td>\n",
       "      <td>28</td>\n",
       "      <td>[]</td>\n",
       "      <td>0</td>\n",
       "    </tr>\n",
       "    <tr>\n",
       "      <th>28</th>\n",
       "      <td>truepleadingthefifthdoesnotmeanjudgementwontbe...</td>\n",
       "      <td>1</td>\n",
       "      <td>41</td>\n",
       "      <td>[]</td>\n",
       "      <td>0</td>\n",
       "    </tr>\n",
       "    <tr>\n",
       "      <th>29</th>\n",
       "      <td>iftruthbetoldwethesilentmajorityarealreadypull...</td>\n",
       "      <td>2</td>\n",
       "      <td>54</td>\n",
       "      <td>[]</td>\n",
       "      <td>0</td>\n",
       "    </tr>\n",
       "  </tbody>\n",
       "</table>\n",
       "</div>"
      ],
      "text/plain": [
       "                                                 body  score  word_counts  \\\n",
       "0   andafterdurhamsclarificationshecouldpossiblywi...      2           22   \n",
       "1                   itssaditstakenusthislongtogethere      2           10   \n",
       "2   repchriscollinstippedoffhissonwithinsiderinfot...      5           23   \n",
       "3   iftrumpusesthe5thitwilllookbadonlyifthepublicg...      3           23   \n",
       "4         timetoendthatnetworkandimbecileslikehannity      3            9   \n",
       "5   howmuchisthatceoworthwhatpercentageofhisworthi...      3           14   \n",
       "6                withericalloptionsatnumbet500areopen      1            9   \n",
       "7   mrsclintonlostin2016whydoesfoxandtheidiotalway...      3           24   \n",
       "8   inatwopartysystemlikewehavethemorecandidateswh...      3          293   \n",
       "9   ughitshouldcovertheirentireimmediatefamilythel...     18           37   \n",
       "10     weshouldstartagofundmejusttogetthelawsuitgoing     11           13   \n",
       "11  itsjustasimportantasanythingelsethatwillneverg...      5           36   \n",
       "12  seanlumpyhannityadeveryoneatfixnewshatesdemocr...      3           22   \n",
       "13                hisdareseemstobeproofofactualmalice     40            9   \n",
       "14             idontlikeherpoliticsbutsheshowishonest      4           10   \n",
       "15  hannitycangotohellwegotalloffoxnewsbroadcastwh...     22           49   \n",
       "16  theironyisthatthelawandorderrhetoricundernixon...      1           63   \n",
       "17  illdonateaslongasthewearejustentertainmentdefe...     16           23   \n",
       "18  shouldntallprimarysbeopenwithrankchoiceandthen...      9           22   \n",
       "19  icouldnotbemoreantitrumpandifilivedinwyomingiw...     10           50   \n",
       "20  foxsimplyfosterscultismasitcannotwinovernewmem...     31           23   \n",
       "21  evenifseanhannityorfoxlostthatfighttheywouldwi...      9           25   \n",
       "22  thegoalofthelefthowaboutthegoalofthegaowherepe...      3           27   \n",
       "23  ifpleadingthe5thmeantjudgementdidntcomeifeelli...      2           27   \n",
       "24  maybestephenkingcangetinonthishesworthabout500...     13           20   \n",
       "25  gttheypointtothespecialelectionlastspringinnew...      4          118   \n",
       "26  whowantstobetthattheyallpleadthe5thtoeveryques...      1           13   \n",
       "27  iwillnotcelebrateuntilaftertheyhavetestifiedan...      1           28   \n",
       "28  truepleadingthefifthdoesnotmeanjudgementwontbe...      1           41   \n",
       "29  iftruthbetoldwethesilentmajorityarealreadypull...      2           54   \n",
       "\n",
       "   emails  emails_count  \n",
       "0      []             0  \n",
       "1      []             0  \n",
       "2      []             0  \n",
       "3      []             0  \n",
       "4      []             0  \n",
       "5      []             0  \n",
       "6      []             0  \n",
       "7      []             0  \n",
       "8      []             0  \n",
       "9      []             0  \n",
       "10     []             0  \n",
       "11     []             0  \n",
       "12     []             0  \n",
       "13     []             0  \n",
       "14     []             0  \n",
       "15     []             0  \n",
       "16     []             0  \n",
       "17     []             0  \n",
       "18     []             0  \n",
       "19     []             0  \n",
       "20     []             0  \n",
       "21     []             0  \n",
       "22     []             0  \n",
       "23     []             0  \n",
       "24     []             0  \n",
       "25     []             0  \n",
       "26     []             0  \n",
       "27     []             0  \n",
       "28     []             0  \n",
       "29     []             0  "
      ]
     },
     "execution_count": 266,
     "metadata": {
     },
     "output_type": "execute_result"
    }
   ],
   "source": [
    "#remove html tags\n",
    "from bs4 import BeautifulSoup\n",
    "ald['body'] = ald['body'].apply(lambda x: BeautifulSoup(x, 'html.parser').get_text().strip())\n",
    "ald.head(30)"
   ]
  },
  {
   "cell_type": "code",
   "execution_count": 0,
   "metadata": {
    "collapsed": false
   },
   "outputs": [
   ],
   "source": [
   ]
  },
  {
   "cell_type": "code",
   "execution_count": 0,
   "metadata": {
    "collapsed": false
   },
   "outputs": [
   ],
   "source": [
   ]
  },
  {
   "cell_type": "code",
   "execution_count": 0,
   "metadata": {
    "collapsed": false
   },
   "outputs": [
   ],
   "source": [
   ]
  },
  {
   "cell_type": "code",
   "execution_count": 0,
   "metadata": {
    "collapsed": false
   },
   "outputs": [
   ],
   "source": [
   ]
  },
  {
   "cell_type": "code",
   "execution_count": 0,
   "metadata": {
    "collapsed": false
   },
   "outputs": [
   ],
   "source": [
   ]
  },
  {
   "cell_type": "code",
   "execution_count": 0,
   "metadata": {
    "collapsed": false
   },
   "outputs": [
   ],
   "source": [
   ]
  },
  {
   "cell_type": "code",
   "execution_count": 196,
   "metadata": {
    "collapsed": false
   },
   "outputs": [
   ],
   "source": [
    "#remove accents\n",
    "import unicodedata\n",
    "def remove_accented_chars(x):\n",
    "    x = unicodedata.normalize('NFKD', x).encode('ascii', 'ignore').decode('utf-8', 'ignore')\n",
    "    return x\n",
    "ald['body'] = ald['body'].apply(lambda x: remove_accented_chars(x))"
   ]
  },
  {
   "cell_type": "code",
   "execution_count": 198,
   "metadata": {
    "collapsed": false
   },
   "outputs": [
    {
     "data": {
      "text/plain": [
       "(62893, 5)"
      ]
     },
     "execution_count": 198,
     "metadata": {
     },
     "output_type": "execute_result"
    }
   ],
   "source": [
    "ald.shape"
   ]
  },
  {
   "cell_type": "code",
   "execution_count": 0,
   "metadata": {
    "collapsed": false
   },
   "outputs": [
   ],
   "source": [
   ]
  },
  {
   "cell_type": "code",
   "execution_count": 204,
   "metadata": {
    "collapsed": false
   },
   "outputs": [
   ],
   "source": [
    "if '.' in ald.body[0]:\n",
    "    print('a')"
   ]
  },
  {
   "cell_type": "code",
   "execution_count": 0,
   "metadata": {
    "collapsed": false
   },
   "outputs": [
   ],
   "source": [
   ]
  },
  {
   "cell_type": "code",
   "execution_count": 0,
   "metadata": {
    "collapsed": false
   },
   "outputs": [
   ],
   "source": [
   ]
  },
  {
   "cell_type": "code",
   "execution_count": 1,
   "metadata": {
    "collapsed": false
   },
   "outputs": [
    {
     "data": {
      "text/plain": [
       "'/projects/820ea3ac-497c-43fd-9cb7-abe34292faa8/SC22-BatchA-Blurred-Futures/Team 1 - Liberal'"
      ]
     },
     "execution_count": 1,
     "metadata": {
     },
     "output_type": "execute_result"
    }
   ],
   "source": [
   ]
  },
  {
   "cell_type": "code",
   "execution_count": 0,
   "metadata": {
    "collapsed": false
   },
   "outputs": [
   ],
   "source": [
   ]
  },
  {
   "cell_type": "code",
   "execution_count": 0,
   "metadata": {
    "collapsed": false
   },
   "outputs": [
   ],
   "source": [
   ]
  }
 ],
 "metadata": {
  "kernelspec": {
   "display_name": "Python (nlp_env)",
   "language": "python",
   "metadata": {
    "debugger": true
   },
   "name": "nlp_env",
   "resource_dir": "/projects/820ea3ac-497c-43fd-9cb7-abe34292faa8/.local/share/jupyter/kernels/nlp_env"
  },
  "language_info": {
   "codemirror_mode": {
    "name": "ipython",
    "version": 3
   },
   "file_extension": ".py",
   "mimetype": "text/x-python",
   "name": "python",
   "nbconvert_exporter": "python",
   "pygments_lexer": "ipython3",
   "version": "3.9.12"
  }
 },
 "nbformat": 4,
 "nbformat_minor": 4
}