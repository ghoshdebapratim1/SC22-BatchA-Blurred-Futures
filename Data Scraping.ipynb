{
 "cells": [
  {
   "cell_type": "code",
   "execution_count": 2,
   "metadata": {
    "collapsed": false
   },
   "outputs": [
   ],
   "source": [
    "import datetime as dt \n",
    "#from psaw import PushshiftAPI\n",
    "from pmaw import PushshiftAPI\n",
    "import praw\n",
    "import pandas as pd"
   ]
  },
  {
   "cell_type": "code",
   "execution_count": 12,
   "metadata": {
    "collapsed": false
   },
   "outputs": [
   ],
   "source": [
    "\n",
    "before = int(dt.datetime(2022,6,10,0,0).timestamp())\n",
    "after = int(dt.datetime(2022,6,9,0,0).timestamp())\n",
    "api = PushshiftAPI()\n",
    "subreddit=\"democrats\"\n",
    "limit=10\n",
    "posts = api.search_submissions(subreddit=subreddit, limit=limit, before=before, after=after)\n",
    "posts_df = pd.DataFrame(posts)\n",
    "#posts_df=posts_df['title']\n"
   ]
  },
  {
   "cell_type": "code",
   "execution_count": 14,
   "metadata": {
    "collapsed": false
   },
   "outputs": [
    {
     "data": {
      "text/plain": [
       "'Fox News is CONFUSED about Division in America'"
      ]
     },
     "execution_count": 14,
     "metadata": {
     },
     "output_type": "execute_result"
    }
   ],
   "source": [
    "posts_df['title'][1]"
   ]
  }
 ],
 "metadata": {
  "kernelspec": {
   "display_name": "Python (nlp_env)",
   "language": "python",
   "metadata": {
    "debugger": true
   },
   "name": "nlp_env",
   "resource_dir": "/projects/df5c0d93-900c-43c1-9044-13bae36625ba/.local/share/jupyter/kernels/nlp_env"
  },
  "language_info": {
   "codemirror_mode": {
    "name": "ipython",
    "version": 3
   },
   "file_extension": ".py",
   "mimetype": "text/x-python",
   "name": "python",
   "nbconvert_exporter": "python",
   "pygments_lexer": "ipython3",
   "version": "3.8.13"
  }
 },
 "nbformat": 4,
 "nbformat_minor": 4
}